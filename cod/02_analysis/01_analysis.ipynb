{
  "cells": [
    {
      "cell_type": "markdown",
      "id": "dc3dd112",
      "metadata": {
        "id": "dc3dd112"
      },
      "source": [
        "# Exploratory Data Analysis\n",
        "This notebook creates features from raw tables and visualizes the results."
      ]
    },
    {
      "cell_type": "markdown",
      "id": "19693b80",
      "metadata": {
        "id": "19693b80"
      },
      "source": [
        "## 1. Set environment\n",
        "Import libraries"
      ]
    },
    {
      "cell_type": "code",
      "source": [
        "%%capture\n",
        "import sys\n",
        "if 'google.colab' in sys.modules:\n",
        "    !pip install isodate\n",
        "    !pip install vaderSentiment\n",
        "    !pip install stargazer\n",
        "    !git clone https://github.com/ArturoSbr/youtube-dislike-count\n",
        "    !cd youtube-dislike-count/"
      ],
      "metadata": {
        "id": "eSYTnKpaMeOI"
      },
      "id": "eSYTnKpaMeOI",
      "execution_count": null,
      "outputs": []
    },
    {
      "cell_type": "code",
      "execution_count": null,
      "id": "17591853",
      "metadata": {
        "id": "17591853"
      },
      "outputs": [],
      "source": [
        "import numpy as np\n",
        "import pandas as pd\n",
        "from math import floor\n",
        "import matplotlib.pyplot as plt\n",
        "import matplotlib.dates as mdates\n",
        "from wordcloud import WordCloud, STOPWORDS\n",
        "from vaderSentiment.vaderSentiment import SentimentIntensityAnalyzer\n",
        "import statsmodels.api as sm\n",
        "from isodate import parse_duration\n",
        "from scipy.stats import ttest_ind\n",
        "from stargazer.stargazer import Stargazer"
      ]
    },
    {
      "cell_type": "markdown",
      "id": "b78b141c",
      "metadata": {
        "id": "b78b141c"
      },
      "source": [
        "Read datasets"
      ]
    },
    {
      "cell_type": "code",
      "execution_count": null,
      "id": "178a85ed",
      "metadata": {
        "id": "178a85ed"
      },
      "outputs": [],
      "source": [
        "d1 = pd.read_csv('../../dat/videoDetails.csv')\n",
        "d2 = pd.read_csv('../../dat/videoFlags.csv')\n",
        "df = pd.merge(d1, d2, on='videoId', how='right')"
      ]
    },
    {
      "cell_type": "markdown",
      "id": "75c563fb",
      "metadata": {
        "id": "75c563fb"
      },
      "source": [
        "## 2. Feature creation\n",
        "Add constant term"
      ]
    },
    {
      "cell_type": "code",
      "execution_count": null,
      "id": "743c9bef",
      "metadata": {
        "id": "743c9bef"
      },
      "outputs": [],
      "source": [
        "df['const'] = 1"
      ]
    },
    {
      "cell_type": "markdown",
      "id": "e9ff59f3",
      "metadata": {
        "id": "e9ff59f3"
      },
      "source": [
        "Convert `publishedAt` to datetime format"
      ]
    },
    {
      "cell_type": "code",
      "execution_count": null,
      "id": "0c66655f",
      "metadata": {
        "id": "0c66655f"
      },
      "outputs": [],
      "source": [
        "df['publishedAt'] = pd.to_datetime(df['publishedAt'], format='%Y-%m-%dT%H:%M:%SZ')"
      ]
    },
    {
      "cell_type": "markdown",
      "id": "f00aac58",
      "metadata": {
        "id": "f00aac58"
      },
      "source": [
        "Turn `definition` to dummy"
      ]
    },
    {
      "cell_type": "code",
      "execution_count": null,
      "id": "b74a69d2",
      "metadata": {
        "id": "b74a69d2"
      },
      "outputs": [],
      "source": [
        "df['definition'] = df['definition'].replace({'sd':'0','hd':'1'}).astype(int)"
      ]
    },
    {
      "cell_type": "markdown",
      "id": "67536050",
      "metadata": {
        "id": "67536050"
      },
      "source": [
        "Create targets from counters"
      ]
    },
    {
      "cell_type": "code",
      "execution_count": null,
      "id": "2b37125f",
      "metadata": {
        "id": "2b37125f"
      },
      "outputs": [],
      "source": [
        "# Hours (12, 24, 36, ...)\n",
        "hours = list(np.arange(12, 72+1, 12))\n",
        "\n",
        "# NCR and sNCR\n",
        "for h in hours:\n",
        "    df[f'ncr1Post{h}'] = df[f'post{h}CommentsNeg1'] / df[f'post{h}CommentsNum'].replace(0, 0.1)\n",
        "    df[f'ncr2Post{h}'] = df[f'post{h}CommentsNeg2'] / df[f'post{h}CommentsNum'].replace(0, 0.1)"
      ]
    },
    {
      "cell_type": "markdown",
      "id": "53a5c574",
      "metadata": {
        "id": "53a5c574"
      },
      "source": [
        "Analyze most important words in video titles to create dummy variables"
      ]
    },
    {
      "cell_type": "code",
      "execution_count": null,
      "id": "3156b940",
      "metadata": {
        "id": "3156b940"
      },
      "outputs": [],
      "source": [
        "# All titles to single text\n",
        "text = ' '.join(df['title'].str.title().tolist())\n",
        "\n",
        "# Remove annoying strings\n",
        "for string in [\"'s\",\".\",\"-\"]:\n",
        "    text = text.replace(string, '')\n",
        "\n",
        "# All words to uppercase\n",
        "text = text.upper()\n",
        "# Stopwords\n",
        "stopwords = set(list(STOPWORDS) + ['SAY','SAYS'])\n",
        "\n",
        "# Plot wordcloud\n",
        "wordcloud = WordCloud(\n",
        "    background_color='white',\n",
        "    max_words=25,\n",
        "    stopwords=stopwords,\n",
        "    max_font_size=40, \n",
        "    scale=3,\n",
        "    random_state=42\n",
        ").generate(text)\n",
        "\n",
        "# Show wordcloud\n",
        "fig = plt.figure(figsize=(12, 12))\n",
        "plt.axis('off')\n",
        "plt.imshow(wordcloud)\n",
        "plt.show()"
      ]
    },
    {
      "cell_type": "code",
      "execution_count": null,
      "id": "10f56b12",
      "metadata": {
        "id": "10f56b12"
      },
      "outputs": [],
      "source": [
        "# Title to lowercase\n",
        "df['title'] = df['title'].str.lower()\n",
        "\n",
        "# Dictionary of keywords\n",
        "keywords = {\n",
        "    'biden':['biden'],\n",
        "    'trump':['trump'],\n",
        "    'rittenhouse':['rittenhouse'],\n",
        "    'climate':['cop26','cop 26','climate'],\n",
        "    'border':['border'],\n",
        "    'economy':['inflation','infrastructure'],\n",
        "    'covid':['covid','covid19','covid-19'],\n",
        "    'arbery':['arbery'],\n",
        "    'bannon':['bannon'],\n",
        "    'usa':['us','u.s','usa','u.s.a']\n",
        "}\n",
        "\n",
        "# Create Indicator variables\n",
        "for topic in keywords:\n",
        "    words = keywords[topic]\n",
        "    df[topic] = np.where(df['title'].str.contains('|'.join(words)), 1, 0)"
      ]
    },
    {
      "cell_type": "markdown",
      "id": "2e6b285d",
      "metadata": {
        "id": "2e6b285d"
      },
      "source": [
        "Video title sentiment"
      ]
    },
    {
      "cell_type": "code",
      "execution_count": null,
      "id": "83289431",
      "metadata": {
        "id": "83289431"
      },
      "outputs": [],
      "source": [
        "clf = SentimentIntensityAnalyzer()\n",
        "df['titleSentiment'] = df['title'].apply(lambda x: clf.polarity_scores(x)['compound'])"
      ]
    },
    {
      "cell_type": "markdown",
      "id": "ba47247d",
      "metadata": {
        "id": "ba47247d"
      },
      "source": [
        "Translate `duration` to seconds."
      ]
    },
    {
      "cell_type": "code",
      "execution_count": null,
      "id": "471d484e",
      "metadata": {
        "id": "471d484e"
      },
      "outputs": [],
      "source": [
        "# YT-duration format to seconds\n",
        "df['seconds'] = df['duration'].apply(lambda x: int(parse_duration(x).total_seconds()))\n",
        "\n",
        "# log(seconds)\n",
        "df['logSeconds'] = np.log(df['seconds'])"
      ]
    },
    {
      "cell_type": "markdown",
      "id": "a7712005",
      "metadata": {
        "id": "a7712005"
      },
      "source": [
        "Sort data by upload date"
      ]
    },
    {
      "cell_type": "code",
      "execution_count": null,
      "id": "f4ad18a4",
      "metadata": {
        "id": "f4ad18a4"
      },
      "outputs": [],
      "source": [
        "df = df.sort_values('publishedAt', ascending=True).reset_index(drop=True)"
      ]
    },
    {
      "cell_type": "markdown",
      "id": "79daa2da",
      "metadata": {
        "id": "79daa2da"
      },
      "source": [
        "Treatment indicator"
      ]
    },
    {
      "cell_type": "code",
      "execution_count": null,
      "id": "a317e68b",
      "metadata": {
        "id": "a317e68b"
      },
      "outputs": [],
      "source": [
        "df['treat'] = (df['publishedAt'] > '2021-11-10').astype(int)"
      ]
    },
    {
      "cell_type": "markdown",
      "id": "71750b13",
      "metadata": {
        "id": "71750b13"
      },
      "source": [
        "Declare running variable $r_i$ and interaction term $r_i \\times T_i$\n",
        "- Before: Seconds until treatment (control was positive, treatment was negative)\n",
        "- Update: Seconds since treatment (control is negative, treatment is positive)"
      ]
    },
    {
      "cell_type": "code",
      "execution_count": null,
      "id": "6f3c4df5",
      "metadata": {
        "id": "6f3c4df5"
      },
      "outputs": [],
      "source": [
        "# Running variable\n",
        "df['r'] = (df['publishedAt'] - pd.Timestamp('2021-11-10')).dt.total_seconds()\n",
        "\n",
        "# Interaction\n",
        "df['rTreat'] = df['r'].multiply(df['treat'])"
      ]
    },
    {
      "cell_type": "markdown",
      "id": "b283eaad",
      "metadata": {
        "id": "b283eaad"
      },
      "source": [
        "## 3. EDA\n",
        "List of targets"
      ]
    },
    {
      "cell_type": "markdown",
      "id": "d8246963",
      "metadata": {
        "id": "d8246963"
      },
      "source": [
        "### 3.1. Descriptive statistics\n",
        "Number of available videos as a function of $h$"
      ]
    },
    {
      "cell_type": "code",
      "execution_count": null,
      "id": "a9718a7d",
      "metadata": {
        "id": "a9718a7d"
      },
      "outputs": [],
      "source": [
        "# post{h}CommentsNum\n",
        "cols = [f'post{str(h)}CommentsNum' for h in hours]\n",
        "\n",
        "# Merge to get videoId & post{h}CommentsNum\n",
        "t = pd.merge(d1[['videoId','publishedAt']], d2[['videoId'] + cols], on='videoId', how='left')\n",
        "\n",
        "# Create C&T groups\n",
        "t['treat'] = (t['publishedAt'] > '2021-11-10').astype(int)\n",
        "\n",
        "# Count available videos per window\n",
        "t[cols] = t[cols].notna().astype(int)\n",
        "\n",
        "# Group by\n",
        "t = t.groupby('treat').agg({**{'videoId':'size'}, **dict(zip(cols,['sum']*6))}).transpose()\n",
        "\n",
        "# Format\n",
        "t.index = ['Total videos'] + ['h = ' + str(i*12) for i in range(1,7)]\n",
        "t\n",
        "\n",
        "# To latex\n",
        "# print(t.to_latex(caption='Number of available videos for different values of $h$',\n",
        "#                  label='tab_dat_nobs'))"
      ]
    },
    {
      "cell_type": "markdown",
      "id": "6433d4c4",
      "metadata": {
        "id": "6433d4c4"
      },
      "source": [
        "Balance table (conditional on 12$h$)"
      ]
    },
    {
      "cell_type": "code",
      "execution_count": null,
      "id": "012037f2",
      "metadata": {
        "id": "012037f2"
      },
      "outputs": [],
      "source": [
        "# Order dummy variables by frequency\n",
        "X = ['biden','trump','rittenhouse','climate','border','economy','covid','arbery','bannon','usa']\n",
        "X = df[X].mean().sort_values(ascending=False).index.tolist()\n",
        "\n",
        "# Add remaining covariates\n",
        "X = ['titleSentiment','seconds','definition'] + X\n",
        "\n",
        "# Means by group\n",
        "t = df.groupby('treat')[X].mean().transpose()\n",
        "\n",
        "# Calculate p-values of differences\n",
        "pvals = []\n",
        "for x in X:\n",
        "    p = ttest_ind(df.loc[df['treat'].eq(1), x], df.loc[df['treat'].eq(0), x])\n",
        "    pvals.append(p[1])\n",
        "t['p'] = pvals\n",
        "\n",
        "# Change column names\n",
        "t.columns = ['Control','Treatment','p-value']\n",
        "t.round(2)\n",
        "\n",
        "# To latex\n",
        "# print(t.to_latex(caption='Balance table for videos with comments posted within first 12 hours ('+str(len(df)) + ')',\n",
        "#                  label='tab_dat_balance', float_format='%.3f'))"
      ]
    },
    {
      "cell_type": "markdown",
      "id": "df25858b",
      "metadata": {
        "id": "df25858b"
      },
      "source": [
        "Balance table with discontinuous regression\n",
        "\n",
        "$$X_i = \\gamma_0 + \\gamma_1 r_i + \\gamma_2 T_i + \\gamma_3 r_i T_i + V_i$$"
      ]
    },
    {
      "cell_type": "code",
      "execution_count": null,
      "id": "b82bd8c2",
      "metadata": {
        "id": "b82bd8c2"
      },
      "outputs": [],
      "source": [
        "# Order frequent-word variables by frequency\n",
        "Y = ['biden','trump','rittenhouse','climate','border','economy','covid','arbery','bannon','usa']\n",
        "Y = df[Y].mean().sort_values(ascending=False).index.tolist()\n",
        "\n",
        "# Add remaining covariates\n",
        "Y = ['titleSentiment','seconds','definition'] + Y\n",
        "\n",
        "# Regress each variable on r and treat\n",
        "data = []\n",
        "for y in Y:\n",
        "    m = sm.OLS(endog=df[y], exog=df[['const','r','treat','rTreat']]).fit()\n",
        "    data.append((m.params['treat'], m.pvalues['treat']))\n",
        "\n",
        "# Summary table\n",
        "t = pd.DataFrame(data=data, index=Y, columns=['Estimated Value','p-value'])\n",
        "t.round(2)"
      ]
    },
    {
      "cell_type": "markdown",
      "id": "f33cb6b5",
      "metadata": {
        "id": "f33cb6b5"
      },
      "source": [
        "### 3.2. Visualizations"
      ]
    },
    {
      "cell_type": "code",
      "execution_count": null,
      "id": "e1ea220b",
      "metadata": {
        "id": "e1ea220b"
      },
      "outputs": [],
      "source": [
        "windows = [f'Post{h}' for h in hours]"
      ]
    },
    {
      "cell_type": "markdown",
      "id": "7ab7c38b",
      "metadata": {
        "id": "7ab7c38b"
      },
      "source": [
        "Plot raw time series"
      ]
    },
    {
      "cell_type": "code",
      "execution_count": null,
      "id": "b8173600",
      "metadata": {
        "scrolled": false,
        "id": "b8173600"
      },
      "outputs": [],
      "source": [
        "# ncr-like columns\n",
        "cols = [col for col in df.columns if 'ncr' in col]\n",
        "\n",
        "# Initialize figure\n",
        "fig, axs = plt.subplots(nrows=6, ncols=2, sharex=True, sharey=True)\n",
        "fig.set_figheight(20)\n",
        "fig.set_figwidth(14)\n",
        "\n",
        "# Plot within each axis\n",
        "for i, ax in enumerate(axs.flatten()):\n",
        "    # Only videos with post12CommentsNum > 15\n",
        "    m = df['post12CommentsNum'].ge(15)\n",
        "    # Time series\n",
        "    x = df.loc[m, 'publishedAt']\n",
        "    y = df.loc[m, cols[i]]\n",
        "    color = 'tomato' if i % 2 == 0 else 'coral'\n",
        "    ax.scatter(x, y, alpha=0.5, color=color)\n",
        "    # Banned treatment region\n",
        "    ax.axvspan(xmin=pd.Timestamp('2021-11-10'), xmax=pd.Timestamp('2021-11-11'),\n",
        "               color='grey', alpha=0.5)\n",
        "    # Ticks and labels\n",
        "    ax.xaxis.set_major_locator(mdates.DayLocator(interval=1))\n",
        "    ax.xaxis.set_major_formatter(mdates.DateFormatter('%b %d'))\n",
        "    ax.xaxis.set_tick_params(rotation=45)\n",
        "    # Aesthetics\n",
        "    title = 'Negative Comment Ratio' if i % 2 == 0 else 'Somewhat Negative Comment Ratio'\n",
        "    h = cols[i][-2:]\n",
        "    ax.set_title(title + ' (h = ' + h + ')')\n",
        "    ax.grid(which='major', axis='x')\n",
        "plt.savefig('../../fig/fig_targets.png', dpi=300, bbox_inches='tight')\n",
        "plt.show()"
      ]
    },
    {
      "cell_type": "markdown",
      "id": "7a651c72",
      "metadata": {
        "id": "7a651c72"
      },
      "source": [
        "Figure for presentation"
      ]
    },
    {
      "cell_type": "code",
      "execution_count": null,
      "id": "54859d0b",
      "metadata": {
        "id": "54859d0b"
      },
      "outputs": [],
      "source": [
        "# ncr-like columns\n",
        "cols = [col for col in df.columns if 'ncr' in col]\n",
        "\n",
        "# Initialize figure\n",
        "fig, axs = plt.subplots(nrows=2, ncols=2, sharex=True, sharey=True)\n",
        "fig.set_figheight(10)\n",
        "fig.set_figwidth(14)\n",
        "\n",
        "# Plot within each axis\n",
        "for i, ax in enumerate(axs.flatten()):\n",
        "    # Only videos with post12CommentsNum > 15\n",
        "    m = df['post12CommentsNum'].ge(15)\n",
        "    # Time series\n",
        "    x = df.loc[m, 'publishedAt']\n",
        "    y = df.loc[m, cols[i]]\n",
        "    color = 'tomato' if i % 2 == 0 else 'coral'\n",
        "    ax.scatter(x, y, alpha=0.5, color=color)\n",
        "    # Banned treatment region\n",
        "    ax.axvspan(xmin=pd.Timestamp('2021-11-10'), xmax=pd.Timestamp('2021-11-11'),\n",
        "               color='grey', alpha=0.5)\n",
        "    # Ticks and labels\n",
        "    ax.xaxis.set_major_locator(mdates.DayLocator(interval=1))\n",
        "    ax.xaxis.set_major_formatter(mdates.DateFormatter('%b %d'))\n",
        "    ax.xaxis.set_tick_params(rotation=45)\n",
        "    # Aesthetics\n",
        "    title = 'Negative Comment Ratio' if i % 2 == 0 else 'Somewhat Negative Comment Ratio'\n",
        "    h = cols[i][-2:]\n",
        "    ax.set_title(title + ' (h = ' + h + ')')\n",
        "    ax.grid(which='major', axis='x')\n",
        "plt.savefig('../../fig/fig_pres_targets.png', dpi=300, bbox_inches='tight')\n",
        "plt.show()"
      ]
    },
    {
      "cell_type": "markdown",
      "id": "41f2c9e1",
      "metadata": {
        "id": "41f2c9e1"
      },
      "source": [
        "Average NCR per hourly bin\n",
        "- Video posted 45 minutes before treatment gets bin = -1 hour\n",
        "- Video posted 45 minutes after treatment gets bin = 1 hour\n",
        "\n",
        "$$ncr_i = \\beta_0 + \\beta_1 r_i + \\beta_2 r_i^2 + \\beta_3 r_i^3 + T_i(\\beta_4 + \\beta_5 r_i + \\beta_6 r_i^2 + \\beta_7 r_i^3)$$\n",
        "\n",
        "Group data by hourly-bins"
      ]
    },
    {
      "cell_type": "code",
      "execution_count": null,
      "id": "7ef28f11",
      "metadata": {
        "id": "7ef28f11"
      },
      "outputs": [],
      "source": [
        "# Ceiling of hours until treatment\n",
        "df['bin'] = df['r'].div(3600).apply(lambda x: floor(x))\n",
        "\n",
        "# Average NCR\n",
        "t = df[df['post12CommentsNum'].ge(0)].groupby('bin')[cols].mean()\n",
        "\n",
        "# Columns for regression\n",
        "t = t.assign(const = 1,\n",
        "             r1 = t.index,\n",
        "             r2 = np.power(t.index, 2),\n",
        "             r3 = np.power(t.index, 3),\n",
        "             t = np.where(t.index > 0, 0, 1))\n",
        "t = t.assign(tr1 = t['t'].multiply(t['r1']),\n",
        "             tr2 = t['t'].multiply(t['r2']),\n",
        "             tr3 = t['t'].multiply(t['r3']))"
      ]
    },
    {
      "cell_type": "markdown",
      "id": "c708f391",
      "metadata": {
        "id": "c708f391"
      },
      "source": [
        "Plot hourly data + d-degree regressions"
      ]
    },
    {
      "cell_type": "code",
      "execution_count": null,
      "id": "6de1037d",
      "metadata": {
        "scrolled": false,
        "id": "6de1037d"
      },
      "outputs": [],
      "source": [
        "# Initialize figure\n",
        "fig, axs = plt.subplots(nrows=6, ncols=2, sharex=True, sharey=True)\n",
        "fig.set_figheight(20)\n",
        "fig.set_figwidth(14)\n",
        "\n",
        "# Plot within each axis\n",
        "for i, ax in enumerate(axs.flatten()):\n",
        "    # Fit regression\n",
        "    m = sm.OLS(endog=t[t.columns[i]], exog=t[['const','r1','t','tr1']],\n",
        "               missing='drop').fit()\n",
        "    # ncr1 => tomato, ncr2 => coral\n",
        "    color = 'tomato' if i % 2 == 0 else 'coral'\n",
        "    # Scatter plot\n",
        "    ax.scatter(t.index, t[t.columns[i]], alpha=0.5, color=color)\n",
        "    # Plot regression\n",
        "    ax.plot(m.fittedvalues[t['t'].eq(0)], lw=2, color='C0')\n",
        "    ax.plot(m.fittedvalues[t['t'].eq(1)], lw=2, color='C0')\n",
        "    # Banned time span\n",
        "    ax.axvspan(xmin=0, xmax=24, color='gray', alpha=0.3)\n",
        "    # Aesthetics\n",
        "    title = 'Average Negative Comment Ratio' if i % 2 == 0 else 'Average Somewhat Negative Comment Ratio'\n",
        "    h = cols[i][-2:]\n",
        "    ax.set_title(f'{title} (h = {h})')\n",
        "    ax.grid(which='major', axis='x')\n",
        "    ax.set_xlim(-150, 150)\n",
        "\n",
        "# Export and show\n",
        "plt.savefig('../../fig/fig_poly1.png', dpi=300, bbox_inches='tight')\n",
        "plt.show()"
      ]
    },
    {
      "cell_type": "markdown",
      "id": "548199f5",
      "metadata": {
        "id": "548199f5"
      },
      "source": [
        "Linear, Quadratic and Cubic plots for presentation"
      ]
    },
    {
      "cell_type": "code",
      "execution_count": null,
      "id": "59bce3fa",
      "metadata": {
        "id": "59bce3fa"
      },
      "outputs": [],
      "source": [
        "# Initialize figure\n",
        "fig, ax = plt.subplots(nrows=1, ncols=3, sharex=True, sharey=True)\n",
        "fig.set_figheight(3)\n",
        "fig.set_figwidth(15)\n",
        "\n",
        "# d-degree polynomial\n",
        "for i, d in enumerate(['1','2','3']):\n",
        "    title = {'1':'Linear','2':'Quadratic','3':'Cubic'}[d] + ' Model'\n",
        "    # Fit\n",
        "    X = [col for col in t.columns if (col[0] in ['r','t']) and ((col == 't') or (col[-1] <= d) or (col[-1] <= d))]\n",
        "    m = sm.OLS(endog=t['ncr1Post12'], exog=t[['const'] + X]).fit()\n",
        "    # Scatter\n",
        "    ax[i].scatter(t.index, t['ncr1Post12'], color='tomato', alpha=0.5)\n",
        "    # Fitted values\n",
        "    ax[i].plot(m.fittedvalues[t['t'].eq(1)], lw=2, color='C0')\n",
        "    ax[i].plot(m.fittedvalues[t['t'].eq(0)], lw=2, color='C0')\n",
        "    # Banned time region\n",
        "    ax[i].axvspan(xmin=0, xmax=24, color='gray', alpha=0.3)\n",
        "    # Aesthetic\n",
        "    ax[i].set_title(title)\n",
        "    ax[i].set_xlabel('Hourse since removal of Dislike Count')\n",
        "    ax[i].set_ylabel('Negative Comment Ratio')\n",
        "    ax[i].grid(which='major', axis='x')\n",
        "    ax[i].set_xlim(-150, 150)\n",
        "\n",
        "# Show\n",
        "plt.savefig('../../fig/fig_pres_rdds.png', dpi=200, bbox_inches='tight')\n",
        "plt.show()"
      ]
    },
    {
      "cell_type": "markdown",
      "id": "4f5d677e",
      "metadata": {
        "id": "4f5d677e"
      },
      "source": [
        "## 4. Regression Analysis"
      ]
    },
    {
      "cell_type": "markdown",
      "id": "f90ebfeb",
      "metadata": {
        "id": "f90ebfeb"
      },
      "source": [
        "### 4.1. Degree 1\n",
        "$Y_i = \\beta_0 + + \\beta_1 r_i + \\beta_2 T_i + \\beta_3 T_i \\times R_i + \\beta_4 Sentiment_i + u_i$"
      ]
    },
    {
      "cell_type": "markdown",
      "id": "14567cb1",
      "metadata": {
        "id": "14567cb1"
      },
      "source": [
        "#### 4.1.1. NCR"
      ]
    },
    {
      "cell_type": "code",
      "execution_count": null,
      "id": "b2b351ad",
      "metadata": {
        "scrolled": true,
        "id": "b2b351ad"
      },
      "outputs": [],
      "source": [
        "X = ['treat','const','r','rTreat','titleSentiment']\n",
        "m = df['post12CommentsNum'] > 0\n",
        "models = []\n",
        "for target in ['ncr1','ncr2']:\n",
        "    for window in windows:\n",
        "        m0 = sm.OLS(endog=df.loc[m, target+window], exog=df.loc[m, X], missing='drop')\n",
        "        m0 = m0.fit(cov_type='HC0')\n",
        "        models.append(m0)"
      ]
    },
    {
      "cell_type": "code",
      "execution_count": null,
      "id": "91021442",
      "metadata": {
        "scrolled": false,
        "id": "91021442"
      },
      "outputs": [],
      "source": [
        "# Summaries\n",
        "ncr1 = Stargazer(models[:6])\n",
        "ncr1.dependent_variable_name('Dependent Variable: Negative Comment Ratio')\n",
        "ncr1.custom_columns([f'h = {h}' for h in hours], [1]*6)\n",
        "ncr1.covariate_order(['treat','r','rTreat','titleSentiment','const'])\n",
        "ncr1.show_degrees_of_freedom(False)\n",
        "ncr1.add_custom_notes(['Robust standard errors (HC0)'])\n",
        "ncr1\n",
        "\n",
        "# Latex output\n",
        "# print(ncr1.render_latex())"
      ]
    },
    {
      "cell_type": "markdown",
      "id": "a7d5357c",
      "metadata": {
        "id": "a7d5357c"
      },
      "source": [
        "#### 4.1.2. sNCR"
      ]
    },
    {
      "cell_type": "code",
      "execution_count": null,
      "id": "a47cc774",
      "metadata": {
        "scrolled": false,
        "id": "a47cc774"
      },
      "outputs": [],
      "source": [
        "# Model summaries\n",
        "ncr2 = Stargazer(models[6:])\n",
        "ncr2.dependent_variable_name('Dependent Variable: Somewhat Negative Comment Ratio')\n",
        "ncr2.custom_columns(['h = ' + str(i*12) for i in range(1,7)], [1]*6)\n",
        "ncr2.covariate_order(['treat','r','rTreat','titleSentiment','const'])\n",
        "ncr2.show_degrees_of_freedom(False)\n",
        "ncr2.add_custom_notes(['Robust standard errors (HC0)'])\n",
        "ncr2\n",
        "\n",
        "# Latex output\n",
        "# print(ncr2.render_latex())"
      ]
    }
  ],
  "metadata": {
    "kernelspec": {
      "display_name": "Python 3",
      "language": "python",
      "name": "python3"
    },
    "language_info": {
      "codemirror_mode": {
        "name": "ipython",
        "version": 3
      },
      "file_extension": ".py",
      "mimetype": "text/x-python",
      "name": "python",
      "nbconvert_exporter": "python",
      "pygments_lexer": "ipython3",
      "version": "3.8.8"
    },
    "colab": {
      "name": "01_analysis.ipynb",
      "provenance": []
    }
  },
  "nbformat": 4,
  "nbformat_minor": 5
}