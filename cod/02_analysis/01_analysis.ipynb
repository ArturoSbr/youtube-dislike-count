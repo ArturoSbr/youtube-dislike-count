{
 "cells": [
  {
   "cell_type": "markdown",
   "id": "dc3dd112",
   "metadata": {
    "id": "dc3dd112"
   },
   "source": [
    "# Analysis\n",
    "This notebook creates features from raw tables and visualizes the results."
   ]
  },
  {
   "cell_type": "markdown",
   "id": "19693b80",
   "metadata": {
    "id": "19693b80"
   },
   "source": [
    "## 1. Set environment\n",
    "Import libraries"
   ]
  },
  {
   "cell_type": "code",
   "execution_count": 1,
   "id": "17591853",
   "metadata": {
    "colab": {
     "base_uri": "https://localhost:8080/"
    },
    "id": "17591853",
    "outputId": "e919d802-8ac8-465d-9f60-e555f75b91b7"
   },
   "outputs": [],
   "source": [
    "import numpy as np\n",
    "import pandas as pd\n",
    "from math import floor\n",
    "import matplotlib.pyplot as plt\n",
    "import matplotlib.dates as mdates\n",
    "from wordcloud import WordCloud, STOPWORDS\n",
    "from vaderSentiment.vaderSentiment import SentimentIntensityAnalyzer\n",
    "import statsmodels.api as sm\n",
    "from isodate import parse_duration\n",
    "from scipy.stats import ttest_ind\n",
    "from stargazer.stargazer import Stargazer"
   ]
  },
  {
   "cell_type": "markdown",
   "id": "32e10a6b",
   "metadata": {},
   "source": [
    "The following cell parses json files. Avoid running it again."
   ]
  },
  {
   "cell_type": "raw",
   "id": "aaacf8f1",
   "metadata": {},
   "source": [
    "# Imports for this cell\n",
    "import os\n",
    "import json\n",
    "\n",
    "# List of all files\n",
    "files = [file for file in os.listdir('../../dat/comments/') if '.json' in file]\n",
    "\n",
    "# Count all comments scraped\n",
    "allComments = 0\n",
    "for file in files:\n",
    "    cs = json.load(open(f'../../dat/comments/{file}'))\n",
    "    allComments += len(\n",
    "        cs.get(\n",
    "            file.replace('.json', '')\n",
    "        )\n",
    "    )\n",
    "\n",
    "# Results\n",
    "print(f'Number of videos with at least one comment in first 12 hours:{len(files)}') # 1,846\n",
    "print(f'Number of comments scraped: {allComments}') # 1,197,454"
   ]
  },
  {
   "cell_type": "markdown",
   "id": "eee4cd6e",
   "metadata": {},
   "source": [
    "Counts:\n",
    "- All videos\n",
    "    - 1,928\n",
    "- All videos with at least one comment in first 12 hours\n",
    "    - 1,846\n",
    "- All videos with at least one comment in English in first 12 hours\n",
    "    - 1,814\n",
    "- All videos with at least one comment in first 12 hours and excluding fuzzy window\n",
    "    - 1533\n",
    "- All videos with at least one comment in English in first 12 hours excluding fuzzy window\n",
    "    - ?\n",
    "- All comments\n",
    "    - 1,197,454"
   ]
  },
  {
   "cell_type": "markdown",
   "id": "b78b141c",
   "metadata": {
    "id": "b78b141c"
   },
   "source": [
    "Read datasets"
   ]
  },
  {
   "cell_type": "code",
   "execution_count": 2,
   "id": "178a85ed",
   "metadata": {
    "id": "178a85ed"
   },
   "outputs": [],
   "source": [
    "d1 = pd.read_csv('../../dat/videoDetails.csv')\n",
    "d2 = pd.read_csv('../../dat/videoFlagsFuzzy.csv')\n",
    "d3 = pd.read_csv('../../dat/videoFlagsFuzzyLangid.csv')\n",
    "df = pd.merge(d1, d3, on='videoId', how='right')"
   ]
  },
  {
   "cell_type": "code",
   "execution_count": 12,
   "id": "952114e2",
   "metadata": {},
   "outputs": [
    {
     "data": {
      "text/plain": [
       "Timestamp('2021-11-09 12:00:00')"
      ]
     },
     "execution_count": 12,
     "metadata": {},
     "output_type": "execute_result"
    }
   ],
   "source": [
    "start = pd.Timestamp('2021-11-10 00:00:00')\n",
    "start - pd.Timedelta(hours=12)"
   ]
  },
  {
   "cell_type": "code",
   "execution_count": 17,
   "id": "927dd3bc",
   "metadata": {},
   "outputs": [
    {
     "data": {
      "text/html": [
       "<div>\n",
       "<style scoped>\n",
       "    .dataframe tbody tr th:only-of-type {\n",
       "        vertical-align: middle;\n",
       "    }\n",
       "\n",
       "    .dataframe tbody tr th {\n",
       "        vertical-align: top;\n",
       "    }\n",
       "\n",
       "    .dataframe thead th {\n",
       "        text-align: right;\n",
       "    }\n",
       "</style>\n",
       "<table border=\"1\" class=\"dataframe\">\n",
       "  <thead>\n",
       "    <tr style=\"text-align: right;\">\n",
       "      <th></th>\n",
       "      <th>videoId</th>\n",
       "      <th>definition</th>\n",
       "      <th>description</th>\n",
       "      <th>duration</th>\n",
       "      <th>liveBroadcastContent</th>\n",
       "      <th>publishedAt</th>\n",
       "      <th>tags</th>\n",
       "      <th>title</th>\n",
       "      <th>post12CommentsNum</th>\n",
       "      <th>post12CommentsNeg1</th>\n",
       "      <th>...</th>\n",
       "      <th>post60CommentsNum</th>\n",
       "      <th>post60CommentsNeg1</th>\n",
       "      <th>post60CommentsNeg2</th>\n",
       "      <th>post60CommentsPos1</th>\n",
       "      <th>post60CommentsPos2</th>\n",
       "      <th>post72CommentsNum</th>\n",
       "      <th>post72CommentsNeg1</th>\n",
       "      <th>post72CommentsNeg2</th>\n",
       "      <th>post72CommentsPos1</th>\n",
       "      <th>post72CommentsPos2</th>\n",
       "    </tr>\n",
       "  </thead>\n",
       "  <tbody>\n",
       "    <tr>\n",
       "      <th>0</th>\n",
       "      <td>ewKg8DkwcLc</td>\n",
       "      <td>hd</td>\n",
       "      <td>CNN obtained exclusive video that shows Trump ...</td>\n",
       "      <td>PT8M11S</td>\n",
       "      <td>none</td>\n",
       "      <td>2021-11-05T12:01:03Z</td>\n",
       "      <td>latest News, Happening Now, CNN, Chris Cuomo, ...</td>\n",
       "      <td>Rudy Giuliani challenged under oath on his ele...</td>\n",
       "      <td>3074</td>\n",
       "      <td>1490</td>\n",
       "      <td>...</td>\n",
       "      <td>4130</td>\n",
       "      <td>2040</td>\n",
       "      <td>2615</td>\n",
       "      <td>1183</td>\n",
       "      <td>2085</td>\n",
       "      <td>4305</td>\n",
       "      <td>2129</td>\n",
       "      <td>2724</td>\n",
       "      <td>1232</td>\n",
       "      <td>2176</td>\n",
       "    </tr>\n",
       "    <tr>\n",
       "      <th>1</th>\n",
       "      <td>E4GXPtsHwKE</td>\n",
       "      <td>hd</td>\n",
       "      <td>A year after the 2020 election, former Preside...</td>\n",
       "      <td>PT5M47S</td>\n",
       "      <td>none</td>\n",
       "      <td>2021-11-05T15:23:25Z</td>\n",
       "      <td>latest News, Happening Now, CNN, John Avlon, R...</td>\n",
       "      <td>'A cut and paste job': Avlon lays out Trump's ...</td>\n",
       "      <td>955</td>\n",
       "      <td>514</td>\n",
       "      <td>...</td>\n",
       "      <td>1296</td>\n",
       "      <td>701</td>\n",
       "      <td>943</td>\n",
       "      <td>395</td>\n",
       "      <td>733</td>\n",
       "      <td>1383</td>\n",
       "      <td>751</td>\n",
       "      <td>1007</td>\n",
       "      <td>417</td>\n",
       "      <td>776</td>\n",
       "    </tr>\n",
       "  </tbody>\n",
       "</table>\n",
       "<p>2 rows × 38 columns</p>\n",
       "</div>"
      ],
      "text/plain": [
       "       videoId definition                                        description  \\\n",
       "0  ewKg8DkwcLc         hd  CNN obtained exclusive video that shows Trump ...   \n",
       "1  E4GXPtsHwKE         hd  A year after the 2020 election, former Preside...   \n",
       "\n",
       "  duration liveBroadcastContent           publishedAt  \\\n",
       "0  PT8M11S                 none  2021-11-05T12:01:03Z   \n",
       "1  PT5M47S                 none  2021-11-05T15:23:25Z   \n",
       "\n",
       "                                                tags  \\\n",
       "0  latest News, Happening Now, CNN, Chris Cuomo, ...   \n",
       "1  latest News, Happening Now, CNN, John Avlon, R...   \n",
       "\n",
       "                                               title  post12CommentsNum  \\\n",
       "0  Rudy Giuliani challenged under oath on his ele...               3074   \n",
       "1  'A cut and paste job': Avlon lays out Trump's ...                955   \n",
       "\n",
       "   post12CommentsNeg1  ...  post60CommentsNum  post60CommentsNeg1  \\\n",
       "0                1490  ...               4130                2040   \n",
       "1                 514  ...               1296                 701   \n",
       "\n",
       "   post60CommentsNeg2  post60CommentsPos1  post60CommentsPos2  \\\n",
       "0                2615                1183                2085   \n",
       "1                 943                 395                 733   \n",
       "\n",
       "   post72CommentsNum  post72CommentsNeg1  post72CommentsNeg2  \\\n",
       "0               4305                2129                2724   \n",
       "1               1383                 751                1007   \n",
       "\n",
       "   post72CommentsPos1  post72CommentsPos2  \n",
       "0                1232                2176  \n",
       "1                 417                 776  \n",
       "\n",
       "[2 rows x 38 columns]"
      ]
     },
     "execution_count": 17,
     "metadata": {},
     "output_type": "execute_result"
    }
   ],
   "source": [
    "df.head(2)"
   ]
  },
  {
   "cell_type": "code",
   "execution_count": 13,
   "id": "705b88dc",
   "metadata": {},
   "outputs": [
    {
     "ename": "TypeError",
     "evalue": "'>' not supported between instances of 'str' and 'Timestamp'",
     "output_type": "error",
     "traceback": [
      "\u001b[1;31m---------------------------------------------------------------------------\u001b[0m",
      "\u001b[1;31mTypeError\u001b[0m                                 Traceback (most recent call last)",
      "\u001b[1;32mc:\\Users\\Svitla\\Documents\\youtube-dislike-count\\cod\\02_analysis\\01_analysis.ipynb Cell 10\u001b[0m in \u001b[0;36m<cell line: 9>\u001b[1;34m()\u001b[0m\n\u001b[0;32m      <a href='vscode-notebook-cell:/c%3A/Users/Svitla/Documents/youtube-dislike-count/cod/02_analysis/01_analysis.ipynb#Y113sZmlsZQ%3D%3D?line=8'>9</a>\u001b[0m \u001b[39mfor\u001b[39;00m h \u001b[39min\u001b[39;00m windows:\n\u001b[0;32m     <a href='vscode-notebook-cell:/c%3A/Users/Svitla/Documents/youtube-dislike-count/cod/02_analysis/01_analysis.ipynb#Y113sZmlsZQ%3D%3D?line=9'>10</a>\u001b[0m     lim \u001b[39m=\u001b[39m start \u001b[39m-\u001b[39m pd\u001b[39m.\u001b[39mTimedelta(hours\u001b[39m=\u001b[39m\u001b[39m12\u001b[39m)\n\u001b[0;32m     <a href='vscode-notebook-cell:/c%3A/Users/Svitla/Documents/youtube-dislike-count/cod/02_analysis/01_analysis.ipynb#Y113sZmlsZQ%3D%3D?line=10'>11</a>\u001b[0m     d \u001b[39m=\u001b[39m {\n\u001b[1;32m---> <a href='vscode-notebook-cell:/c%3A/Users/Svitla/Documents/youtube-dislike-count/cod/02_analysis/01_analysis.ipynb#Y113sZmlsZQ%3D%3D?line=11'>12</a>\u001b[0m         \u001b[39mf\u001b[39m\u001b[39m'\u001b[39m\u001b[39mh\u001b[39m\u001b[39m{\u001b[39;00mh\u001b[39m}\u001b[39;00m\u001b[39m'\u001b[39m: (df[\u001b[39m'\u001b[39;49m\u001b[39mpublishedAt\u001b[39;49m\u001b[39m'\u001b[39;49m] \u001b[39m>\u001b[39;49m lim) \u001b[39m|\u001b[39m (df[\u001b[39m'\u001b[39m\u001b[39mpublishedAt\u001b[39m\u001b[39m'\u001b[39m] \u001b[39m>\u001b[39m\u001b[39m=\u001b[39m \u001b[39m'\u001b[39m\u001b[39m2021-11-11\u001b[39m\u001b[39m'\u001b[39m)\n\u001b[0;32m     <a href='vscode-notebook-cell:/c%3A/Users/Svitla/Documents/youtube-dislike-count/cod/02_analysis/01_analysis.ipynb#Y113sZmlsZQ%3D%3D?line=12'>13</a>\u001b[0m     }\n",
      "File \u001b[1;32mc:\\Users\\Svitla\\AppData\\Local\\Programs\\Python\\Python310\\lib\\site-packages\\pandas\\core\\ops\\common.py:70\u001b[0m, in \u001b[0;36m_unpack_zerodim_and_defer.<locals>.new_method\u001b[1;34m(self, other)\u001b[0m\n\u001b[0;32m     66\u001b[0m             \u001b[39mreturn\u001b[39;00m \u001b[39mNotImplemented\u001b[39m\n\u001b[0;32m     68\u001b[0m other \u001b[39m=\u001b[39m item_from_zerodim(other)\n\u001b[1;32m---> 70\u001b[0m \u001b[39mreturn\u001b[39;00m method(\u001b[39mself\u001b[39;49m, other)\n",
      "File \u001b[1;32mc:\\Users\\Svitla\\AppData\\Local\\Programs\\Python\\Python310\\lib\\site-packages\\pandas\\core\\arraylike.py:56\u001b[0m, in \u001b[0;36mOpsMixin.__gt__\u001b[1;34m(self, other)\u001b[0m\n\u001b[0;32m     54\u001b[0m \u001b[39m@unpack_zerodim_and_defer\u001b[39m(\u001b[39m\"\u001b[39m\u001b[39m__gt__\u001b[39m\u001b[39m\"\u001b[39m)\n\u001b[0;32m     55\u001b[0m \u001b[39mdef\u001b[39;00m \u001b[39m__gt__\u001b[39m(\u001b[39mself\u001b[39m, other):\n\u001b[1;32m---> 56\u001b[0m     \u001b[39mreturn\u001b[39;00m \u001b[39mself\u001b[39;49m\u001b[39m.\u001b[39;49m_cmp_method(other, operator\u001b[39m.\u001b[39;49mgt)\n",
      "File \u001b[1;32mc:\\Users\\Svitla\\AppData\\Local\\Programs\\Python\\Python310\\lib\\site-packages\\pandas\\core\\series.py:5623\u001b[0m, in \u001b[0;36mSeries._cmp_method\u001b[1;34m(self, other, op)\u001b[0m\n\u001b[0;32m   5620\u001b[0m rvalues \u001b[39m=\u001b[39m extract_array(other, extract_numpy\u001b[39m=\u001b[39m\u001b[39mTrue\u001b[39;00m, extract_range\u001b[39m=\u001b[39m\u001b[39mTrue\u001b[39;00m)\n\u001b[0;32m   5622\u001b[0m \u001b[39mwith\u001b[39;00m np\u001b[39m.\u001b[39merrstate(\u001b[39mall\u001b[39m\u001b[39m=\u001b[39m\u001b[39m\"\u001b[39m\u001b[39mignore\u001b[39m\u001b[39m\"\u001b[39m):\n\u001b[1;32m-> 5623\u001b[0m     res_values \u001b[39m=\u001b[39m ops\u001b[39m.\u001b[39;49mcomparison_op(lvalues, rvalues, op)\n\u001b[0;32m   5625\u001b[0m \u001b[39mreturn\u001b[39;00m \u001b[39mself\u001b[39m\u001b[39m.\u001b[39m_construct_result(res_values, name\u001b[39m=\u001b[39mres_name)\n",
      "File \u001b[1;32mc:\\Users\\Svitla\\AppData\\Local\\Programs\\Python\\Python310\\lib\\site-packages\\pandas\\core\\ops\\array_ops.py:283\u001b[0m, in \u001b[0;36mcomparison_op\u001b[1;34m(left, right, op)\u001b[0m\n\u001b[0;32m    280\u001b[0m     \u001b[39mreturn\u001b[39;00m invalid_comparison(lvalues, rvalues, op)\n\u001b[0;32m    282\u001b[0m \u001b[39melif\u001b[39;00m is_object_dtype(lvalues\u001b[39m.\u001b[39mdtype) \u001b[39mor\u001b[39;00m \u001b[39misinstance\u001b[39m(rvalues, \u001b[39mstr\u001b[39m):\n\u001b[1;32m--> 283\u001b[0m     res_values \u001b[39m=\u001b[39m comp_method_OBJECT_ARRAY(op, lvalues, rvalues)\n\u001b[0;32m    285\u001b[0m \u001b[39melse\u001b[39;00m:\n\u001b[0;32m    286\u001b[0m     res_values \u001b[39m=\u001b[39m _na_arithmetic_op(lvalues, rvalues, op, is_cmp\u001b[39m=\u001b[39m\u001b[39mTrue\u001b[39;00m)\n",
      "File \u001b[1;32mc:\\Users\\Svitla\\AppData\\Local\\Programs\\Python\\Python310\\lib\\site-packages\\pandas\\core\\ops\\array_ops.py:73\u001b[0m, in \u001b[0;36mcomp_method_OBJECT_ARRAY\u001b[1;34m(op, x, y)\u001b[0m\n\u001b[0;32m     71\u001b[0m     result \u001b[39m=\u001b[39m libops\u001b[39m.\u001b[39mvec_compare(x\u001b[39m.\u001b[39mravel(), y\u001b[39m.\u001b[39mravel(), op)\n\u001b[0;32m     72\u001b[0m \u001b[39melse\u001b[39;00m:\n\u001b[1;32m---> 73\u001b[0m     result \u001b[39m=\u001b[39m libops\u001b[39m.\u001b[39;49mscalar_compare(x\u001b[39m.\u001b[39;49mravel(), y, op)\n\u001b[0;32m     74\u001b[0m \u001b[39mreturn\u001b[39;00m result\u001b[39m.\u001b[39mreshape(x\u001b[39m.\u001b[39mshape)\n",
      "File \u001b[1;32mc:\\Users\\Svitla\\AppData\\Local\\Programs\\Python\\Python310\\lib\\site-packages\\pandas\\_libs\\ops.pyx:107\u001b[0m, in \u001b[0;36mpandas._libs.ops.scalar_compare\u001b[1;34m()\u001b[0m\n",
      "\u001b[1;31mTypeError\u001b[0m: '>' not supported between instances of 'str' and 'Timestamp'"
     ]
    }
   ],
   "source": [
    "# Convert publishedAt to timestamp\n",
    "df['publishedAt'] = pd.to_datetime(df['publishedAt'], format='%Y-%m-%dT%H:%M:%SZ')\n",
    "\n",
    "# Start of policy rollout\n",
    "start = pd.Timestamp('2021-11-10 00:00:00')\n",
    "\n",
    "# Time windows\n",
    "windows = np.arange(12, 72+1, 12)\n",
    "\n",
    "# Init dict in which to store masks\n",
    "m = {}\n",
    "for h in windows:\n",
    "    lim = start - pd.Timedelta(hours=12)\n",
    "    d = {\n",
    "        f'h{h}': (df['publishedAt'] > lim) | (df['publishedAt'] >= '2021-11-11')\n",
    "    }"
   ]
  },
  {
   "cell_type": "code",
   "execution_count": 9,
   "id": "b6df687a",
   "metadata": {},
   "outputs": [],
   "source": [
    "d = {}\n"
   ]
  },
  {
   "cell_type": "markdown",
   "id": "8e696b68",
   "metadata": {},
   "source": [
    "Data summary"
   ]
  },
  {
   "cell_type": "code",
   "execution_count": null,
   "id": "9639b7ef",
   "metadata": {},
   "outputs": [],
   "source": [
    "nvids = d2['videoId'].nunique()\n",
    "ncoms = round(df['post12CommentsNum'].sum(), -5)\n",
    "\n",
    "print(f'Scraped {int(ncoms)} from {nvids} Political videos.')"
   ]
  },
  {
   "cell_type": "markdown",
   "id": "75c563fb",
   "metadata": {
    "id": "75c563fb"
   },
   "source": [
    "## 2. Feature creation\n",
    "Add constant term"
   ]
  },
  {
   "cell_type": "code",
   "execution_count": null,
   "id": "743c9bef",
   "metadata": {
    "id": "743c9bef"
   },
   "outputs": [],
   "source": [
    "df['const'] = 1"
   ]
  },
  {
   "cell_type": "markdown",
   "id": "e9ff59f3",
   "metadata": {
    "id": "e9ff59f3"
   },
   "source": [
    "Convert `publishedAt` to datetime format"
   ]
  },
  {
   "cell_type": "code",
   "execution_count": null,
   "id": "0c66655f",
   "metadata": {
    "id": "0c66655f"
   },
   "outputs": [],
   "source": [
    "df['publishedAt'] = pd.to_datetime(df['publishedAt'], format='%Y-%m-%dT%H:%M:%SZ')"
   ]
  },
  {
   "cell_type": "markdown",
   "id": "f00aac58",
   "metadata": {
    "id": "f00aac58"
   },
   "source": [
    "Turn `definition` to dummy"
   ]
  },
  {
   "cell_type": "code",
   "execution_count": null,
   "id": "b74a69d2",
   "metadata": {
    "id": "b74a69d2"
   },
   "outputs": [],
   "source": [
    "df['definition'] = df['definition'].replace({'sd':'0','hd':'1'}).astype(int)"
   ]
  },
  {
   "cell_type": "markdown",
   "id": "67536050",
   "metadata": {
    "id": "67536050"
   },
   "source": [
    "Create targets from counters"
   ]
  },
  {
   "cell_type": "code",
   "execution_count": null,
   "id": "2b37125f",
   "metadata": {
    "id": "2b37125f"
   },
   "outputs": [],
   "source": [
    "# Hours (12, 24, 36, ...)\n",
    "hours = list(np.arange(12, 72+1, 12))\n",
    "\n",
    "# NCR and sNCR\n",
    "for h in hours:\n",
    "    df[f'ncr1Post{h}'] = df[f'post{h}CommentsNeg1'] / df[f'post{h}CommentsNum'].replace(0, 0.1)\n",
    "    df[f'ncr2Post{h}'] = df[f'post{h}CommentsNeg2'] / df[f'post{h}CommentsNum'].replace(0, 0.1)"
   ]
  },
  {
   "cell_type": "markdown",
   "id": "53a5c574",
   "metadata": {
    "id": "53a5c574"
   },
   "source": [
    "Analyze most important words in video titles to create dummy variables"
   ]
  },
  {
   "cell_type": "code",
   "execution_count": null,
   "id": "3156b940",
   "metadata": {
    "colab": {
     "base_uri": "https://localhost:8080/",
     "height": 366
    },
    "id": "3156b940",
    "outputId": "e2ad3e11-0d95-4528-d39b-5d0771ecc114"
   },
   "outputs": [],
   "source": [
    "# All titles to single text\n",
    "text = ' '.join(df['title'].str.title().tolist())\n",
    "\n",
    "# Remove annoying strings\n",
    "for string in [\"'s\",\".\",\"-\"]:\n",
    "    text = text.replace(string, '')\n",
    "\n",
    "# All words to uppercase\n",
    "text = text.upper()\n",
    "# Stopwords\n",
    "stopwords = set(list(STOPWORDS) + ['SAY','SAYS','S'])\n",
    "\n",
    "# Plot wordcloud\n",
    "wordcloud = WordCloud(\n",
    "    background_color='white',\n",
    "    max_words=25,\n",
    "    stopwords=stopwords,\n",
    "    max_font_size=40, \n",
    "    scale=3,\n",
    "    random_state=42\n",
    ").generate(text)\n",
    "\n",
    "# Show wordcloud\n",
    "fig = plt.figure(figsize=(12, 12))\n",
    "plt.axis('off')\n",
    "plt.imshow(wordcloud)\n",
    "plt.show()"
   ]
  },
  {
   "cell_type": "markdown",
   "id": "65939766",
   "metadata": {},
   "source": [
    "Create dummy variables by topic"
   ]
  },
  {
   "cell_type": "code",
   "execution_count": null,
   "id": "10f56b12",
   "metadata": {
    "id": "10f56b12"
   },
   "outputs": [],
   "source": [
    "# Title to lowercase\n",
    "df['title'] = df['title'].str.lower()\n",
    "\n",
    "# Dictionary of keywords\n",
    "topics = {\n",
    "    'president':'biden|trump',\n",
    "    'climate':'cop26|cop 26|climate',\n",
    "    'economy':'inflation|infrastructure|bill|economy',\n",
    "    'covid':'covid|covid19|covid-19|virus',\n",
    "    'violence':'kill|murder|assassins| die|dead|shoot|shot'\n",
    "}\n",
    "\n",
    "# Create Indicator variables\n",
    "for topic in topics.keys():\n",
    "    df[topic] = np.where(df['title'].str.contains(topics[topic]), 1, 0)"
   ]
  },
  {
   "cell_type": "markdown",
   "id": "2e6b285d",
   "metadata": {
    "id": "2e6b285d"
   },
   "source": [
    "Video title sentiment"
   ]
  },
  {
   "cell_type": "code",
   "execution_count": null,
   "id": "83289431",
   "metadata": {
    "id": "83289431"
   },
   "outputs": [],
   "source": [
    "clf = SentimentIntensityAnalyzer()\n",
    "df['toneCom'] = df['title'].apply(lambda x: clf.polarity_scores(x)['compound'])\n",
    "df['tonePos'] = df['title'].apply(lambda x: clf.polarity_scores(x)['pos'])\n",
    "df['toneNeg'] = df['title'].apply(lambda x: clf.polarity_scores(x)['neg'])"
   ]
  },
  {
   "cell_type": "markdown",
   "id": "ba47247d",
   "metadata": {
    "id": "ba47247d"
   },
   "source": [
    "Translate `duration` to seconds."
   ]
  },
  {
   "cell_type": "code",
   "execution_count": null,
   "id": "471d484e",
   "metadata": {
    "id": "471d484e"
   },
   "outputs": [],
   "source": [
    "# YT-duration format to seconds\n",
    "df['seconds'] = df['duration'].apply(lambda x: int(parse_duration(x).total_seconds()))\n",
    "\n",
    "# log(seconds)\n",
    "df['logSeconds'] = np.log(df['seconds'])"
   ]
  },
  {
   "cell_type": "markdown",
   "id": "a7712005",
   "metadata": {
    "id": "a7712005"
   },
   "source": [
    "Sort data by upload date"
   ]
  },
  {
   "cell_type": "code",
   "execution_count": null,
   "id": "f4ad18a4",
   "metadata": {
    "id": "f4ad18a4"
   },
   "outputs": [],
   "source": [
    "df = df.sort_values('publishedAt', ascending=True).reset_index(drop=True)"
   ]
  },
  {
   "cell_type": "markdown",
   "id": "79daa2da",
   "metadata": {
    "id": "79daa2da"
   },
   "source": [
    "Treatment indicator"
   ]
  },
  {
   "cell_type": "code",
   "execution_count": null,
   "id": "a317e68b",
   "metadata": {
    "id": "a317e68b"
   },
   "outputs": [],
   "source": [
    "df['treat'] = (df['publishedAt'] > '2021-11-10').astype(int)"
   ]
  },
  {
   "cell_type": "markdown",
   "id": "71750b13",
   "metadata": {
    "id": "71750b13"
   },
   "source": [
    "Declare running variable $R_i$ and interaction term $R_i \\times T_i$\n",
    "- Before: Seconds until treatment (control was positive, treatment was negative)\n",
    "- Update: Seconds since treatment (control is negative, treatment is positive)"
   ]
  },
  {
   "cell_type": "code",
   "execution_count": null,
   "id": "6f3c4df5",
   "metadata": {
    "id": "6f3c4df5"
   },
   "outputs": [],
   "source": [
    "# Running variable\n",
    "df['r'] = (df['publishedAt'] - pd.Timestamp('2021-11-10')).dt.total_seconds()\n",
    "\n",
    "# Interaction\n",
    "df['rTreat'] = df['r'].multiply(df['treat'])"
   ]
  },
  {
   "cell_type": "markdown",
   "id": "b283eaad",
   "metadata": {
    "id": "b283eaad"
   },
   "source": [
    "## 3. Balance tests\n",
    "List of targets"
   ]
  },
  {
   "cell_type": "code",
   "execution_count": null,
   "id": "b30c905d",
   "metadata": {},
   "outputs": [],
   "source": [
    "windows = [f'Post{h}' for h in hours]"
   ]
  },
  {
   "cell_type": "markdown",
   "id": "d8246963",
   "metadata": {
    "id": "d8246963"
   },
   "source": [
    "### 3.1. Descriptive statistics\n",
    "Number of available videos as a function of $h$"
   ]
  },
  {
   "cell_type": "code",
   "execution_count": null,
   "id": "a9718a7d",
   "metadata": {
    "colab": {
     "base_uri": "https://localhost:8080/",
     "height": 282
    },
    "id": "a9718a7d",
    "outputId": "5c16e638-831e-45ac-af65-8a8a3c45e0b7"
   },
   "outputs": [],
   "source": [
    "# post{h}CommentsNum\n",
    "cols = [f'post{str(h)}CommentsNum' for h in hours]\n",
    "\n",
    "# Merge to get videoId & post{h}CommentsNum\n",
    "t = pd.merge(d1[['videoId','publishedAt']], d2[['videoId'] + cols], on='videoId', how='left')\n",
    "\n",
    "# Create C&T groups\n",
    "t['treat'] = (t['publishedAt'] > '2021-11-10').astype(int)\n",
    "\n",
    "# Count available videos per window\n",
    "t[cols] = t[cols].notna().astype(int)\n",
    "\n",
    "# Group by\n",
    "t = t.groupby('treat').agg({**{'videoId':'size'}, **dict(zip(cols,['sum']*6))}).transpose()\n",
    "\n",
    "# Format\n",
    "t.index = ['Total videos'] + ['h = ' + str(i*12) for i in range(1,7)]\n",
    "t\n",
    "\n",
    "# To latex\n",
    "# print(t.to_latex(caption='Number of available videos for different values of $h$',\n",
    "#                  label='tab_dat_nobs'))"
   ]
  },
  {
   "cell_type": "markdown",
   "id": "df25858b",
   "metadata": {
    "id": "df25858b"
   },
   "source": [
    "### 3.2. Balance\n",
    "\n",
    "Balance table for videos closest to the cutoff: $R_{hours} \\in [-36,-12] \\cup [24,36]$\n",
    "\n",
    "1. Difference in means for binary covariates\n",
    "1. RDD for continuous covariates\n",
    "\n",
    "$$X_i = \\gamma_0 + \\gamma_1 r_i + \\gamma_2 T_i + \\gamma_3 r_i T_i + V_i$$"
   ]
  },
  {
   "cell_type": "code",
   "execution_count": null,
   "id": "b82bd8c2",
   "metadata": {
    "colab": {
     "base_uri": "https://localhost:8080/",
     "height": 480
    },
    "id": "b82bd8c2",
    "outputId": "c6f5dd0b-864a-4ebf-8fbe-2449e36addbf"
   },
   "outputs": [],
   "source": [
    "# Bandwidth\n",
    "mask = df['r'].between(-36*60*60, -12*60*60) | df['r'].between(24*60*60, 48*60*60)\n",
    "print(f'{mask.sum()} videos used in balance test.')\n",
    "d = df[mask].copy()\n",
    "\n",
    "d['durationMins'] = d['seconds'].div(60)\n",
    "\n",
    "# Order frequent-word variables by frequency\n",
    "X = list(topics.keys()) + ['definition','durationMins','tonePos','toneNeg','toneCom']\n",
    "\n",
    "# Regress each variable on r and treat\n",
    "data = []\n",
    "for x in X:\n",
    "    m = sm.OLS(endog=d[x], exog=d[['const','r','treat','rTreat']]).fit()\n",
    "    data.append((m.params['treat'], m.pvalues['treat']))\n",
    "\n",
    "# Summary table\n",
    "t = pd.DataFrame(data=data, index=X, columns=['Estimated Value','p-value'])\n",
    "t.index.rename('Covariate', inplace=True)\n",
    "t.reset_index(inplace=True)\n",
    "t.round(3)\n",
    "\n",
    "# To latex\n",
    "# print(t.to_latex(caption='Regression discontinuities on observable characteristics',\n",
    "#                  label='tab_dat_balance', float_format='%.3f', index=False))"
   ]
  },
  {
   "cell_type": "markdown",
   "id": "4f5d677e",
   "metadata": {
    "id": "4f5d677e"
   },
   "source": [
    "## 4. Regression Analysis\n",
    "Fit all polynomial models with $d \\in \\{1, 2\\}$.\n",
    "\n",
    "### 4.1. First-degree\n",
    "$Y_i = \\beta_0 + \\beta_1 r_i + \\beta_2 T_i + \\beta_3 T_i \\times r_i + \\gamma X_i + U_i$"
   ]
  },
  {
   "cell_type": "code",
   "execution_count": null,
   "id": "b2b351ad",
   "metadata": {
    "id": "b2b351ad",
    "scrolled": true
   },
   "outputs": [],
   "source": [
    "# Minumum number of comments\n",
    "mask = df['post12CommentsNum'] > 0\n",
    "\n",
    "# Fit all models\n",
    "d1 = []\n",
    "for target in ['ncr1','ncr2']:\n",
    "    for window in windows:\n",
    "        formula = f'{target}{window} ~ treat + r + I(r * treat)'\n",
    "        m = sm.OLS.from_formula(formula=formula, data=df[mask]).fit(cov_type='HC0')\n",
    "        d1.append(m)"
   ]
  },
  {
   "cell_type": "markdown",
   "id": "27a65066",
   "metadata": {},
   "source": [
    "$NCR(h)$ summary"
   ]
  },
  {
   "cell_type": "code",
   "execution_count": null,
   "id": "91021442",
   "metadata": {
    "colab": {
     "base_uri": "https://localhost:8080/",
     "height": 519
    },
    "id": "91021442",
    "outputId": "1d187b8a-debc-4026-c819-e1c5abd8c335",
    "scrolled": false
   },
   "outputs": [],
   "source": [
    "# Summaries\n",
    "ncr1d1 = Stargazer(d1[:6])\n",
    "ncr1d1.dependent_variable_name('Dependent Variable: Negative Comment Ratio')\n",
    "ncr1d1.custom_columns([f'h = {h}' for h in hours], [1]*6)\n",
    "ncr1d1.covariate_order(['treat','r','I(r * treat)','Intercept'])#,'toneNeg'])\n",
    "ncr1d1.rename_covariates({'I(r * treat)':'RxT','r':'R','treat':'T'})#,'toneNeg':'Negative tone'})\n",
    "ncr1d1.show_degrees_of_freedom(False)\n",
    "ncr1d1.add_custom_notes(['Robust standard errors (HC0)'])\n",
    "ncr1d1.show_model_numbers(False)\n",
    "ncr1d1.title('Estimated effects on Negative Comment Ratio (first-degree polynomial)')\n",
    "ncr1d1\n",
    "\n",
    "# Latex output\n",
    "# print(ncr1d1.render_latex())"
   ]
  },
  {
   "cell_type": "markdown",
   "id": "a7d5357c",
   "metadata": {
    "id": "a7d5357c"
   },
   "source": [
    "$sNCR(h)$ summaries"
   ]
  },
  {
   "cell_type": "code",
   "execution_count": null,
   "id": "a47cc774",
   "metadata": {
    "colab": {
     "base_uri": "https://localhost:8080/",
     "height": 519
    },
    "id": "a47cc774",
    "outputId": "99a754e6-711b-406f-e2bf-6abb3caa26d0",
    "scrolled": false
   },
   "outputs": [],
   "source": [
    "# Model summaries\n",
    "ncr2d2 = Stargazer(d1[6:])\n",
    "ncr2d2.dependent_variable_name('Dependent Variable: Somewhat Negative Comment Ratio')\n",
    "ncr2d2.custom_columns([f'h = {h}' for h in hours], [1]*6)\n",
    "ncr2d2.covariate_order(['treat','r','I(r * treat)','Intercept'])#,'toneNeg'])\n",
    "ncr2d2.rename_covariates({'I(r * treat)':'RxT','r':'R','treat':'T'})#,'toneNeg':'Negative tone'})\n",
    "ncr2d2.show_degrees_of_freedom(False)\n",
    "ncr2d2.add_custom_notes(['Robust standard errors (HC0)'])\n",
    "ncr2d2.show_model_numbers(False)\n",
    "ncr2d2.title('Estimated effects on Somewhat Negative Comment Ratio (first-degree polynomial)')\n",
    "ncr2d2\n",
    "\n",
    "# Latex output\n",
    "# print(ncr2d2.render_latex())"
   ]
  },
  {
   "cell_type": "markdown",
   "id": "9fb1e9d8",
   "metadata": {},
   "source": [
    "### 4.2. Second-degree\n",
    "$$Y_i = \\beta_0 + \\beta_1 T_i + \\beta_2 R_i + \\beta_3 R_i^2 + \\beta_4 (T_i \\times R_i) + \\beta_5 (T_i \\times R_i^2) + \\gamma X_i + U_i$$"
   ]
  },
  {
   "cell_type": "code",
   "execution_count": null,
   "id": "5df1ce20",
   "metadata": {},
   "outputs": [],
   "source": [
    "# Minumum number of comments\n",
    "mask = df['post12CommentsNum'] > 0\n",
    "\n",
    "# Fit all models\n",
    "d2 = []\n",
    "for target in ['ncr1','ncr2']:\n",
    "    for window in windows:\n",
    "        formula = f'{target}{window} ~ treat + r + I(r**2) + I(treat * r) + I(treat * (r**2))'\n",
    "        m = sm.OLS.from_formula(formula=formula, data=df[mask]).fit(cov_type='HC0')\n",
    "        d2.append(m)"
   ]
  },
  {
   "cell_type": "markdown",
   "id": "2da3694d",
   "metadata": {},
   "source": [
    "$NCR(h)$ summary"
   ]
  },
  {
   "cell_type": "code",
   "execution_count": null,
   "id": "86ae25e2",
   "metadata": {
    "colab": {
     "base_uri": "https://localhost:8080/",
     "height": 519
    },
    "id": "91021442",
    "outputId": "1d187b8a-debc-4026-c819-e1c5abd8c335",
    "scrolled": false
   },
   "outputs": [],
   "source": [
    "# Summaries\n",
    "ncr1d2 = Stargazer(d2[:6])\n",
    "ncr1d2.dependent_variable_name('Dependent Variable: Negative Comment Ratio')\n",
    "ncr1d2.custom_columns([f'h = {h}' for h in hours], [1]*6)\n",
    "ncr1d2.covariate_order(['treat','r','I(r ** 2)','I(treat * r)','I(treat * (r ** 2))','Intercept'])\n",
    "ncr1d2.rename_covariates({\n",
    "    'I(r ** 2)':'R^2', 'I(treat * (r ** 2))':'T x R^2', 'I(treat * r)':'T x R',\n",
    "    'r':'R','treat':'T'})\n",
    "ncr1d2.show_degrees_of_freedom(False)\n",
    "ncr1d2.add_custom_notes(['Robust standard errors (HC0)'])\n",
    "ncr1d2.show_model_numbers(False)\n",
    "ncr1d2.title('Estimated effects on Negative Comment Ratio (second-degree polynomial)')\n",
    "ncr1d2\n",
    "\n",
    "# Latex output\n",
    "# print(ncr1d2.render_latex())"
   ]
  },
  {
   "cell_type": "markdown",
   "id": "e87dadd7",
   "metadata": {
    "id": "a7d5357c"
   },
   "source": [
    "$sNCR(h)$ summaries"
   ]
  },
  {
   "cell_type": "code",
   "execution_count": null,
   "id": "df14e2a3",
   "metadata": {
    "colab": {
     "base_uri": "https://localhost:8080/",
     "height": 519
    },
    "id": "a47cc774",
    "outputId": "99a754e6-711b-406f-e2bf-6abb3caa26d0",
    "scrolled": false
   },
   "outputs": [],
   "source": [
    "# Summaries\n",
    "ncr1d2 = Stargazer(d2[:6])\n",
    "ncr1d2.dependent_variable_name('Dependent Variable: Somewhat Negative Comment Ratio')\n",
    "ncr1d2.custom_columns([f'h = {h}' for h in hours], [1]*6)\n",
    "ncr1d2.covariate_order(['treat','r','I(r ** 2)','I(treat * r)','I(treat * (r ** 2))','Intercept'])\n",
    "ncr1d2.rename_covariates({\n",
    "    'I(r ** 2)':'R^2', 'I(treat * (r ** 2))':'T x R^2', 'I(treat * r)':'T x R',\n",
    "    'r':'R','treat':'T'})\n",
    "ncr1d2.show_degrees_of_freedom(False)\n",
    "ncr1d2.add_custom_notes(['Robust standard errors (HC0)'])\n",
    "ncr1d2.show_model_numbers(False)\n",
    "ncr1d2.title('Estimated effects on Somewhat Negative Comment Ratio (second-degree polynomial)')\n",
    "ncr1d2\n",
    "\n",
    "# Latex output\n",
    "# print(ncr1d2.render_latex())"
   ]
  },
  {
   "cell_type": "markdown",
   "id": "eae09fd6",
   "metadata": {},
   "source": [
    "### 4.3. Robustness checks\n",
    "#### 4.3.1. Control for president"
   ]
  },
  {
   "cell_type": "raw",
   "id": "84b92760",
   "metadata": {},
   "source": [
    "# Try controlling for president\n",
    "formula = 'ncr1Post12 ~ treat + president + I(treat*president) + ' \\\n",
    "    + 'r'# + I(r*treat) + I(r*president) + I(r*treat*president)'\n",
    "d = df[df['post12CommentsNum'] > 30]\n",
    "\n",
    "# Fit\n",
    "m = sm.OLS.from_formula(formula, d).fit()\n",
    "m.summary(alpha=0.1)"
   ]
  },
  {
   "cell_type": "markdown",
   "id": "f33cb6b5",
   "metadata": {
    "id": "f33cb6b5"
   },
   "source": [
    "### 4.4. Visualizations\n",
    "Linear and quadratic RDD for $NCR(12)$"
   ]
  },
  {
   "cell_type": "code",
   "execution_count": null,
   "id": "1d455003",
   "metadata": {},
   "outputs": [],
   "source": [
    "# Linrear and quadratic models\n",
    "l, q = d1[0], d2[0]\n",
    "\n",
    "# Data and predictions for lines\n",
    "t = pd.DataFrame({'r':df.loc[mask, 'r'],\n",
    "                  'l':d1[0].fittedvalues.values,\n",
    "                  'q':d2[0].fittedvalues.values})\n",
    "t['treat'] = (t['r'] > 0).astype(int)\n",
    "\n",
    "# Data for scatter\n",
    "bin_length = 4\n",
    "s = df.loc[mask, ['ncr1Post12','r']].copy()\n",
    "s['bin'] = (s['r'].div(60 * 60) / bin_length).apply(lambda x: floor(x))\n",
    "s = s.groupby('bin')['ncr1Post12'].mean().reset_index(name='mean')\n",
    "s['bin'] = s['bin'].multiply(bin_length * 60 * 60)\n",
    "\n",
    "# Initialize figure\n",
    "fig, axs = plt.subplots(nrows=1, ncols=2)\n",
    "fig.set_figheight(5)\n",
    "fig.set_figwidth(14)\n",
    "\n",
    "# Plot model on each axis\n",
    "for i, ax in enumerate(axs):\n",
    "    # Plot linear model\n",
    "    if i == 0:\n",
    "        series = 'l'\n",
    "    else:\n",
    "        series = 'q'\n",
    "    # Lines\n",
    "    ax.plot(t.loc[t['treat'].eq(0), 'r'], t.loc[t['treat'].eq(0), series], color='C1')\n",
    "    ax.plot(t.loc[t['treat'].eq(1), 'r'], t.loc[t['treat'].eq(1), series], color='C1')\n",
    "    # Scatter\n",
    "    ax.scatter(s['bin'], s['mean'], color='C0', alpha=0.5)\n",
    "    # Shaded regions\n",
    "    ax.axvspan(xmin=0, xmax=24*60*60, color='gray', alpha=0.3)\n",
    "    ax.axvspan(xmin=-12*60*60, xmax=0, color='C0', alpha=0.3)\n",
    "    # X&Y axes\n",
    "    ax.set_xticks(np.arange(-5*24*60*60, 6*24*60*60+1, 24 * 60 * 60))\n",
    "    ax.set_xticklabels(np.arange(-5*24, 6*24+1, 24), rotation=45)\n",
    "    ax.set_xlim(-5*24*60*60, 6*24*60*60)\n",
    "    ax.set_ylim(0, 0.7)\n",
    "    # Labels\n",
    "    title = {'l':'First-degree polynomial','q':'Second-degree polynomial'}\n",
    "    ax.set_title(f'{title[series]}')\n",
    "    ax.set_xlabel('Hours until policy')\n",
    "    ax.set_ylabel('Negative Comment Ration (h=12)')\n",
    "    ax.grid(which='major', axis='x')\n",
    "# Save and show\n",
    "if 'google.colab' not in sys.modules:\n",
    "    plt.savefig('../../fig/fig_d1d2.png', dpi=200, bbox_inches='tight')\n",
    "plt.show()"
   ]
  },
  {
   "cell_type": "markdown",
   "id": "c708f391",
   "metadata": {
    "id": "c708f391"
   },
   "source": [
    "All linear models"
   ]
  },
  {
   "cell_type": "code",
   "execution_count": null,
   "id": "b2885f76",
   "metadata": {
    "scrolled": false
   },
   "outputs": [],
   "source": [
    "# Initialize figure\n",
    "fig, axs = plt.subplots(nrows=6, ncols=2)\n",
    "fig.set_figheight(20)\n",
    "fig.set_figwidth(14)\n",
    "\n",
    "# Plot within each axis\n",
    "for i, ax_row in enumerate(axs):\n",
    "    # Left-right plots\n",
    "    for j, ax in enumerate(ax_row):\n",
    "        if j == 0:\n",
    "            outcome = f'ncr1{windows[i]}'\n",
    "            dotColor = 'blue'\n",
    "            ax.set_ylabel(f'NCR(h = {hours[i]})')\n",
    "            model = d1[i]\n",
    "        else:\n",
    "            outcome = f'ncr2{windows[i]}'\n",
    "            dotColor = 'lightblue'\n",
    "            ax.set_ylabel(f'sNCR(h = {hours[i]})')\n",
    "            model = d1[6+i]\n",
    "        # Masks\n",
    "        mask = df['post12CommentsNum'].gt(0) & df[outcome].notna()\n",
    "        # Line plots\n",
    "        t = df.loc[mask, ['treat','r']].assign(pred = model.fittedvalues)\n",
    "        ax.plot(t.loc[t['treat'].eq(0), 'r'], t.loc[t['treat'].eq(0), 'pred'], color='C1')\n",
    "        ax.plot(t.loc[t['treat'].eq(1), 'r'], t.loc[t['treat'].eq(1), 'pred'], color='C1')\n",
    "        # Scatter plots\n",
    "        s = df[mask].copy()\n",
    "        s['bin'] = (s['r'].div(4*60*60)).apply(lambda x: floor(x))\n",
    "        s = s.groupby('bin')[outcome].mean().reset_index(name='mean')\n",
    "        s['bin'] = s['bin'] * (4*60*60)\n",
    "        ax.scatter(x=s['bin'], y=s['mean'], color='C0', alpha=0.5)\n",
    "        # Shades\n",
    "        ax.axvspan(xmin=0, xmax=24*60*60, color='gray', alpha=0.3)\n",
    "        ax.axvspan(xmin=-hours[i]*60*60, xmax=0, color='C0', alpha=0.3)\n",
    "        # Axes\n",
    "        ax.set_ylim(0, 0.7)\n",
    "        ax.set_xticks(np.arange(-5*24*60*60, 6*24*60*60+1, 24*60*60))\n",
    "        ax.set_xticklabels(np.arange(-5*24, 6*24+1, 24))\n",
    "        ax.grid(which='major', axis='x')\n",
    "        if i == 0:\n",
    "            ax.set_title({0:'Negative Comment Ratio',1:'Somewhat Negative Comment Ratio'}[j])\n",
    "        if i == 5:\n",
    "            ax.set_xlabel('Hours until policy')\n",
    "# Show & save\n",
    "if 'google.colab' not in sys.modules:\n",
    "    plt.savefig('../../fig/fig_res_d1all.png', dpi=200, bbox_inches='tight')\n",
    "plt.show()"
   ]
  },
  {
   "cell_type": "code",
   "execution_count": null,
   "id": "6de1037d",
   "metadata": {
    "colab": {
     "base_uri": "https://localhost:8080/",
     "height": 1000
    },
    "id": "6de1037d",
    "outputId": "09c5ff88-652f-4e1f-9f48-ebf0723c76e9",
    "scrolled": false
   },
   "outputs": [],
   "source": [
    "# Initialize figure\n",
    "fig, axs = plt.subplots(nrows=6, ncols=2)\n",
    "fig.set_figheight(20)\n",
    "fig.set_figwidth(14)\n",
    "\n",
    "# Plot within each axis\n",
    "for i, ax_row in enumerate(axs):\n",
    "    # Left-right plots\n",
    "    for j, ax in enumerate(ax_row):\n",
    "        if j == 0:\n",
    "            outcome = f'ncr1{windows[i]}'\n",
    "            dotColor = 'blue'\n",
    "            ax.set_ylabel(f'NCR(h = {hours[i]})')\n",
    "            model = d2[i]\n",
    "        else:\n",
    "            outcome = f'ncr2{windows[i]}'\n",
    "            dotColor = 'lightblue'\n",
    "            ax.set_ylabel(f'sNCR(h = {hours[i]})')\n",
    "            model = d2[6+i]\n",
    "        # Masks\n",
    "        mask = df['post12CommentsNum'].gt(0) & df[outcome].notna()\n",
    "        # Line plots\n",
    "        t = df.loc[mask, ['treat','r']].assign(pred = model.fittedvalues)\n",
    "        ax.plot(t.loc[t['treat'].eq(0), 'r'], t.loc[t['treat'].eq(0), 'pred'], color='C1')\n",
    "        ax.plot(t.loc[t['treat'].eq(1), 'r'], t.loc[t['treat'].eq(1), 'pred'], color='C1')\n",
    "        # Scatter plots\n",
    "        s = df[mask].copy()\n",
    "        s['bin'] = (s['r'].div(4*60*60)).apply(lambda x: floor(x))\n",
    "        s = s.groupby('bin')[outcome].mean().reset_index(name='mean')\n",
    "        s['bin'] = s['bin'] * (4*60*60)\n",
    "        ax.scatter(x=s['bin'], y=s['mean'], color='C0', alpha=0.5)\n",
    "        # Shades\n",
    "        ax.axvspan(xmin=0, xmax=24*60*60, color='gray', alpha=0.3)\n",
    "        ax.axvspan(xmin=-hours[i]*60*60, xmax=0, color='C0', alpha=0.3)\n",
    "        # Axes\n",
    "        ax.set_ylim(0, 0.7)\n",
    "        ax.set_xticks(np.arange(-5*24*60*60, 6*24*60*60+1, 24*60*60))\n",
    "        ax.set_xticklabels(np.arange(-5*24, 6*24+1, 24))\n",
    "        ax.grid(which='major', axis='x')\n",
    "        if i == 0:\n",
    "            ax.set_title({0:'Negative Comment Ratio',1:'Somewhat Negative Comment Ratio'}[j])\n",
    "        if i == 5:\n",
    "            ax.set_xlabel('Hours until policy')\n",
    "# Show & save\n",
    "if 'google.colab' not in sys.modules:\n",
    "    plt.savefig('../../fig/fig_res_d2all.png', dpi=200, bbox_inches='tight')\n",
    "plt.show()"
   ]
  },
  {
   "cell_type": "markdown",
   "id": "5fc4bffd",
   "metadata": {},
   "source": [
    "Comparing linear to quadratic models"
   ]
  },
  {
   "cell_type": "code",
   "execution_count": null,
   "id": "391592e1",
   "metadata": {},
   "outputs": [],
   "source": [
    "# Goodness of fit\n",
    "t = pd.DataFrame(\n",
    "    {\n",
    "        'd1R2a':[m.rsquared_adj for m in d1], 'd2R2a':[m.rsquared_adj for m in d2],\n",
    "        'd1bic':[m.bic for m in d1], 'd2bic':[m.bic for m in d2],\n",
    "        'd1aic':[m.aic for m in d1], 'd2aic':[m.aic for m in d2],\n",
    "    }\n",
    ")\n",
    "\n",
    "t.round(4)"
   ]
  }
 ],
 "metadata": {
  "colab": {
   "name": "01_analysis.ipynb",
   "provenance": []
  },
  "kernelspec": {
   "display_name": "Python 3.10.5 64-bit",
   "language": "python",
   "name": "python3"
  },
  "language_info": {
   "codemirror_mode": {
    "name": "ipython",
    "version": 3
   },
   "file_extension": ".py",
   "mimetype": "text/x-python",
   "name": "python",
   "nbconvert_exporter": "python",
   "pygments_lexer": "ipython3",
   "version": "3.10.5"
  },
  "vscode": {
   "interpreter": {
    "hash": "95c0f0991ffcdb038fcf97c3f0d49464981cd58006e8af0cf678ddb2337346a8"
   }
  }
 },
 "nbformat": 4,
 "nbformat_minor": 5
}
