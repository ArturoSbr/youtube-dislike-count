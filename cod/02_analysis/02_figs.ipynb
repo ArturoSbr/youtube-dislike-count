{
 "cells": [
  {
   "cell_type": "markdown",
   "metadata": {},
   "source": [
    "# Figures\n",
    "\n",
    "This script creates figures used for illustrative purposes in the paper"
   ]
  },
  {
   "cell_type": "code",
   "execution_count": null,
   "metadata": {},
   "outputs": [],
   "source": [
    "import numpy as np\n",
    "import pandas as pd\n",
    "import matplotlib.pyplot as plt\n",
    "from sklearn.metrics import confusion_matrix"
   ]
  },
  {
   "cell_type": "markdown",
   "metadata": {},
   "source": [
    "## Figure 1. Process of excluding videos"
   ]
  },
  {
   "cell_type": "code",
   "execution_count": null,
   "metadata": {},
   "outputs": [],
   "source": [
    "# Starting points for video uploads\n",
    "r = np.arange(start=0, stop=48+1, step=12)\n",
    "xlabs = pd.date_range(start='2021-11-09 00:00:00', end='2021-11-12 00:00:00', freq='12h')\n",
    "d = pd.DataFrame(\n",
    "    {\n",
    "        'start':r,\n",
    "        'window':[24]*len(r)\n",
    "    }\n",
    ")\n",
    "\n",
    "# Plot\n",
    "plt.barh(y=d.index, width=d['window'], left=d['start'])\n",
    "plt.axvspan(xmin=24, xmax=48, color='red', alpha=0.5, label='Rollout day')\n",
    "\n",
    "# Aesthetics\n",
    "plt.xlabel('Time')\n",
    "plt.xticks(\n",
    "    ticks=np.arange(start=0, stop=r.max()+24+1, step=12),\n",
    "    labels=xlabs.strftime('%b-%d %H:%M'),\n",
    "    rotation=45\n",
    ")\n",
    "plt.ylabel('Type of video')\n",
    "plt.yticks(\n",
    "    ticks=range(len(d)),\n",
    "    labels=['Control', 'Uncertain', 'Uncertain', 'Uncertain', 'Treatment']\n",
    ")\n",
    "plt.grid(axis='x')\n",
    "\n",
    "# Save and show\n",
    "# plt.savefig('../../fig/fig_ncr.png', dpi=200, bbox_inches='tight')\n",
    "plt.show()"
   ]
  },
  {
   "cell_type": "markdown",
   "metadata": {},
   "source": [
    "Confusion matrix"
   ]
  },
  {
   "cell_type": "code",
   "execution_count": null,
   "metadata": {},
   "outputs": [],
   "source": [
    "# Read labeled data set\n",
    "df = pd.read_csv('../../dat/comments_sample_labeled.csv')\n",
    "\n",
    "# Negative\n",
    "t1 = pd.DataFrame(\n",
    "    data=confusion_matrix(\n",
    "        y_true=df['ncr1Hand'],\n",
    "        y_pred=df['ncr1Vadr'],\n",
    "    )\n",
    ")\n",
    "\n",
    "# Somewhat negative\n",
    "t2 = pd.DataFrame(\n",
    "    data=confusion_matrix(\n",
    "        y_true=df['ncr1Hand'],\n",
    "        y_pred=df['ncr1Vadr'],\n",
    "    )\n",
    ")"
   ]
  },
  {
   "cell_type": "markdown",
   "metadata": {},
   "source": [
    "Confusion to rates"
   ]
  },
  {
   "cell_type": "code",
   "execution_count": null,
   "metadata": {},
   "outputs": [],
   "source": [
    "t1.div(t1.sum(axis=1), axis=0).round(3)"
   ]
  },
  {
   "cell_type": "code",
   "execution_count": null,
   "metadata": {},
   "outputs": [],
   "source": [
    "t2.div(t1.sum(axis=1), axis=0).round(3)"
   ]
  }
 ],
 "metadata": {
  "kernelspec": {
   "display_name": "Python 3.10.5 64-bit",
   "language": "python",
   "name": "python3"
  },
  "language_info": {
   "codemirror_mode": {
    "name": "ipython",
    "version": 3
   },
   "file_extension": ".py",
   "mimetype": "text/x-python",
   "name": "python",
   "nbconvert_exporter": "python",
   "pygments_lexer": "ipython3",
   "version": "3.10.5"
  },
  "orig_nbformat": 4,
  "vscode": {
   "interpreter": {
    "hash": "95c0f0991ffcdb038fcf97c3f0d49464981cd58006e8af0cf678ddb2337346a8"
   }
  }
 },
 "nbformat": 4,
 "nbformat_minor": 2
}
