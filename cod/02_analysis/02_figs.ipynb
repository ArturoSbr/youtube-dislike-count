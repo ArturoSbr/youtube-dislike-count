{
 "cells": [
  {
   "cell_type": "markdown",
   "metadata": {},
   "source": [
    "# Figures\n",
    "\n",
    "This script creates figures used for illustrative purposes in the paper"
   ]
  },
  {
   "cell_type": "code",
   "execution_count": null,
   "metadata": {},
   "outputs": [],
   "source": [
    "import numpy as np\n",
    "import pandas as pd\n",
    "import matplotlib.pyplot as plt"
   ]
  },
  {
   "cell_type": "markdown",
   "metadata": {},
   "source": [
    "## Figure 1. Process of excluding videos"
   ]
  },
  {
   "cell_type": "code",
   "execution_count": null,
   "metadata": {},
   "outputs": [],
   "source": [
    "# Starting points for video uploads\n",
    "r = np.arange(start=0, stop=48+1, step=12)\n",
    "xlabs = pd.date_range(start='2021-11-09 00:00:00', end='2021-11-12 00:00:00', freq='12h')\n",
    "d = pd.DataFrame(\n",
    "    {\n",
    "        'start':r,\n",
    "        'window':[24]*len(r)\n",
    "    }\n",
    ")\n",
    "\n",
    "# Plot\n",
    "plt.barh(y=d.index, width=d['window'], left=d['start'])\n",
    "plt.axvspan(xmin=24, xmax=48, color='red', alpha=0.5, label='Rollout day')\n",
    "\n",
    "# Aesthetics\n",
    "plt.xlabel('Time')\n",
    "plt.xticks(\n",
    "    ticks=np.arange(start=0, stop=r.max()+24+1, step=12),\n",
    "    labels=xlabs.strftime('%b-%d %H:%M'),\n",
    "    rotation=45\n",
    ")\n",
    "plt.ylabel('Type of video')\n",
    "plt.yticks(\n",
    "    ticks=range(len(d)),\n",
    "    labels=['Control', 'Uncertain', 'Uncertain', 'Uncertain', 'Treatment']\n",
    ")\n",
    "plt.grid(axis='x')\n",
    "\n",
    "# Save and show\n",
    "plt.savefig('../../fig/fig_ncr.png', dpi=200, bbox_inches='tight')\n",
    "plt.show()"
   ]
  }
 ],
 "metadata": {
  "kernelspec": {
   "display_name": "Python 3.8.8 ('base')",
   "language": "python",
   "name": "python3"
  },
  "language_info": {
   "codemirror_mode": {
    "name": "ipython",
    "version": 3
   },
   "file_extension": ".py",
   "mimetype": "text/x-python",
   "name": "python",
   "nbconvert_exporter": "python",
   "pygments_lexer": "ipython3",
   "version": "3.8.8"
  },
  "orig_nbformat": 4,
  "vscode": {
   "interpreter": {
    "hash": "40d3a090f54c6569ab1632332b64b2c03c39dcf918b08424e98f38b5ae0af88f"
   }
  }
 },
 "nbformat": 4,
 "nbformat_minor": 2
}
