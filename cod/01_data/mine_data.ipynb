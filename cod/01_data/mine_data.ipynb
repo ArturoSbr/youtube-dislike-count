{
 "cells": [
  {
   "cell_type": "markdown",
   "id": "d9a7606f",
   "metadata": {},
   "source": [
    "# Mining data\n",
    "This notebook mines the general details of videos uploaded by multiple news channels between 2021-11-05 and 2021-11-15 as well as each video's details and comment sections."
   ]
  },
  {
   "cell_type": "markdown",
   "id": "0af4aed9",
   "metadata": {},
   "source": [
    "## Environment\n",
    "Import dependencies"
   ]
  },
  {
   "cell_type": "code",
   "execution_count": null,
   "id": "f1073101",
   "metadata": {},
   "outputs": [],
   "source": [
    "import os\n",
    "from dotenv import load_dotenv\n",
    "import pandas as pd\n",
    "from youtube import channel, video"
   ]
  },
  {
   "cell_type": "markdown",
   "id": "beaf9d0c",
   "metadata": {},
   "source": [
    "Get API key from environment variables"
   ]
  },
  {
   "cell_type": "code",
   "execution_count": null,
   "id": "94d7e73c",
   "metadata": {},
   "outputs": [],
   "source": [
    "load_dotenv()\n",
    "key = os.getenv('API_KEY')"
   ]
  },
  {
   "cell_type": "markdown",
   "id": "cad8aac4",
   "metadata": {},
   "source": [
    "## Import list of News channels"
   ]
  },
  {
   "cell_type": "code",
   "execution_count": null,
   "id": "4b9e772e",
   "metadata": {},
   "outputs": [],
   "source": [
    "channels = pd.read_csv('../../dat/top_news_channels.csv')"
   ]
  },
  {
   "cell_type": "markdown",
   "id": "44c94a7f",
   "metadata": {},
   "source": [
    "## 1. Build `channels` table"
   ]
  },
  {
   "cell_type": "code",
   "execution_count": null,
   "id": "f3f90187",
   "metadata": {},
   "outputs": [],
   "source": [
    "# Initialize list\n",
    "data = []\n",
    "\n",
    "# Get channels' details\n",
    "for channelId in channels['channelId'].values:\n",
    "    ch = channel(id=channelId, key=key)\n",
    "    data.append([channelId] + ch.get_info())\n",
    "\n",
    "# Write table\n",
    "df1 = pd.DataFrame(data=details, columns=['channelId','name','joined','views'])\n",
    "df1.to_csv('../../dat/channels.csv', index=False)"
   ]
  },
  {
   "cell_type": "markdown",
   "id": "a6bf666a",
   "metadata": {},
   "source": [
    "## 2. Build `channelVideos` table"
   ]
  },
  {
   "cell_type": "code",
   "execution_count": null,
   "id": "f1c18e81",
   "metadata": {},
   "outputs": [],
   "source": [
    "# Initialize lists\n",
    "vids_pre, vids_post = [], []"
   ]
  },
  {
   "cell_type": "code",
   "execution_count": null,
   "id": "e444e184",
   "metadata": {},
   "outputs": [],
   "source": [
    "# Pre-treatment videos\n",
    "for channelId in df1['channelId'].values:\n",
    "    ch = channel(id=channelId, key=key)\n",
    "    videoIds = ch.get_videos(category=25, date0='2021-11-05T00:00:00', date1='2021-11-09T23:59:59')\n",
    "    for videoId in videoIds:\n",
    "        vids_pre.append([channelId, videoId, 0])"
   ]
  },
  {
   "cell_type": "code",
   "execution_count": null,
   "id": "8989b6e0",
   "metadata": {},
   "outputs": [],
   "source": [
    "# Post-treatment videos\n",
    "for channelId in df1['channelId'].values:\n",
    "    ch = channel(id=channelId, key=key)\n",
    "    videoIds = ch.get_videos(category=25, date0='2021-11-11T00:00:00', date1='2021-11-15T23:59:59')\n",
    "    for videoId in videoIds:\n",
    "        vids_post.append([channelId, videoId, 1])"
   ]
  },
  {
   "cell_type": "code",
   "execution_count": null,
   "id": "3abe1d98",
   "metadata": {},
   "outputs": [],
   "source": [
    "df2 = pd.DataFrame(data=vids_pre + vids_post, columns=['channelId','videoId','treat'])\n",
    "df2.to_csv('../../dat/videos.csv', index=False)"
   ]
  },
  {
   "cell_type": "markdown",
   "id": "62bd72ec",
   "metadata": {},
   "source": [
    "## 3. Build `videoDetails` table"
   ]
  },
  {
   "cell_type": "code",
   "execution_count": null,
   "id": "24a36a88",
   "metadata": {},
   "outputs": [],
   "source": []
  },
  {
   "cell_type": "markdown",
   "id": "978d25a0",
   "metadata": {},
   "source": [
    "## 4. Build `videoComments` table"
   ]
  },
  {
   "cell_type": "code",
   "execution_count": null,
   "id": "816e1de0",
   "metadata": {},
   "outputs": [],
   "source": []
  }
 ],
 "metadata": {
  "kernelspec": {
   "display_name": "Python 3",
   "language": "python",
   "name": "python3"
  },
  "language_info": {
   "codemirror_mode": {
    "name": "ipython",
    "version": 3
   },
   "file_extension": ".py",
   "mimetype": "text/x-python",
   "name": "python",
   "nbconvert_exporter": "python",
   "pygments_lexer": "ipython3",
   "version": "3.8.8"
  }
 },
 "nbformat": 4,
 "nbformat_minor": 5
}
