{
 "cells": [
  {
   "cell_type": "markdown",
   "id": "d9a7606f",
   "metadata": {},
   "source": [
    "# Mining data\n",
    "This script mines the general details of videos uploaded between 2021-10-31 and 2021-11-20 by multiple news channels as well as their comment sections."
   ]
  },
  {
   "cell_type": "markdown",
   "id": "0af4aed9",
   "metadata": {},
   "source": [
    "## Environment\n",
    "Import dependencies"
   ]
  },
  {
   "cell_type": "code",
   "execution_count": 19,
   "id": "f1073101",
   "metadata": {},
   "outputs": [],
   "source": [
    "import os\n",
    "from dotenv import load_dotenv\n",
    "import pandas as pd\n",
    "from youtube import channel, video"
   ]
  },
  {
   "cell_type": "markdown",
   "id": "beaf9d0c",
   "metadata": {},
   "source": [
    "Get API key from environment variables"
   ]
  },
  {
   "cell_type": "code",
   "execution_count": 24,
   "id": "94d7e73c",
   "metadata": {},
   "outputs": [],
   "source": [
    "load_dotenv()\n",
    "key = os.getenv('API_KEY')"
   ]
  },
  {
   "cell_type": "markdown",
   "id": "cad8aac4",
   "metadata": {},
   "source": [
    "## Import list of News channels"
   ]
  },
  {
   "cell_type": "code",
   "execution_count": 33,
   "id": "4b9e772e",
   "metadata": {},
   "outputs": [],
   "source": [
    "channels = pd.read_csv('../../dat/top_news_channels.csv')"
   ]
  },
  {
   "cell_type": "markdown",
   "id": "44c94a7f",
   "metadata": {},
   "source": [
    "## Build `channels` table"
   ]
  },
  {
   "cell_type": "code",
   "execution_count": 43,
   "id": "f3f90187",
   "metadata": {},
   "outputs": [],
   "source": [
    "details = []\n",
    "for id in channels['channelId'].values:\n",
    "    ch = channel(id=id, key=key)\n",
    "    details.append([id] + ch.get_info())\n",
    "df_channels = pd.DataFrame(data=details, columns=['id','name','joined','views'])"
   ]
  },
  {
   "cell_type": "code",
   "execution_count": 51,
   "id": "4611d636",
   "metadata": {},
   "outputs": [
    {
     "data": {
      "text/html": [
       "<div>\n",
       "<style scoped>\n",
       "    .dataframe tbody tr th:only-of-type {\n",
       "        vertical-align: middle;\n",
       "    }\n",
       "\n",
       "    .dataframe tbody tr th {\n",
       "        vertical-align: top;\n",
       "    }\n",
       "\n",
       "    .dataframe thead th {\n",
       "        text-align: right;\n",
       "    }\n",
       "</style>\n",
       "<table border=\"1\" class=\"dataframe\">\n",
       "  <thead>\n",
       "    <tr style=\"text-align: right;\">\n",
       "      <th></th>\n",
       "      <th>id</th>\n",
       "      <th>name</th>\n",
       "      <th>joined</th>\n",
       "      <th>views</th>\n",
       "    </tr>\n",
       "  </thead>\n",
       "  <tbody>\n",
       "    <tr>\n",
       "      <th>0</th>\n",
       "      <td>UCupvZG-5ko_eiXAupbDfxWw</td>\n",
       "      <td>CNN</td>\n",
       "      <td>2005-10-02</td>\n",
       "      <td>11064937103</td>\n",
       "    </tr>\n",
       "    <tr>\n",
       "      <th>1</th>\n",
       "      <td>UCBi2mrWuNuyYy4gbM6fU18Q</td>\n",
       "      <td>ABC News</td>\n",
       "      <td>2006-08-07</td>\n",
       "      <td>10954081424</td>\n",
       "    </tr>\n",
       "    <tr>\n",
       "      <th>2</th>\n",
       "      <td>UC16niRr50-MSBwiO3YDb3RA</td>\n",
       "      <td>BBC News</td>\n",
       "      <td>2006-04-08</td>\n",
       "      <td>3400565637</td>\n",
       "    </tr>\n",
       "    <tr>\n",
       "      <th>3</th>\n",
       "      <td>UCLXo7UDZvByw2ixzpQCufnA</td>\n",
       "      <td>Vox</td>\n",
       "      <td>2014-03-04</td>\n",
       "      <td>2824840947</td>\n",
       "    </tr>\n",
       "    <tr>\n",
       "      <th>4</th>\n",
       "      <td>UC9k-yiEpRHMNVOnOi_aQK8w</td>\n",
       "      <td>Inside Edition</td>\n",
       "      <td>2012-10-09</td>\n",
       "      <td>17686237171</td>\n",
       "    </tr>\n",
       "  </tbody>\n",
       "</table>\n",
       "</div>"
      ],
      "text/plain": [
       "                         id            name      joined        views\n",
       "0  UCupvZG-5ko_eiXAupbDfxWw             CNN  2005-10-02  11064937103\n",
       "1  UCBi2mrWuNuyYy4gbM6fU18Q        ABC News  2006-08-07  10954081424\n",
       "2  UC16niRr50-MSBwiO3YDb3RA        BBC News  2006-04-08   3400565637\n",
       "3  UCLXo7UDZvByw2ixzpQCufnA             Vox  2014-03-04   2824840947\n",
       "4  UC9k-yiEpRHMNVOnOi_aQK8w  Inside Edition  2012-10-09  17686237171"
      ]
     },
     "execution_count": 51,
     "metadata": {},
     "output_type": "execute_result"
    }
   ],
   "source": [
    "df_channels.head()"
   ]
  },
  {
   "cell_type": "markdown",
   "id": "a6bf666a",
   "metadata": {},
   "source": [
    "## Build `videos` table"
   ]
  },
  {
   "cell_type": "code",
   "execution_count": 50,
   "id": "e444e184",
   "metadata": {},
   "outputs": [
    {
     "data": {
      "text/plain": [
       "['1G8z7gognoI',\n",
       " 'xC8Pbfe3zLg',\n",
       " 'o3xLI2pwhoc',\n",
       " '_nhPRq_VUjA',\n",
       " 'SyehvY7uYxs',\n",
       " 'Khh4mpSrFQA',\n",
       " 'LLdyCk9vzp8',\n",
       " 'yu09792ysoI',\n",
       " 'G710PDEdfa4',\n",
       " 'K8VRnzuxQP8',\n",
       " 'ESf8m14y6fQ',\n",
       " 'SurYXGQ03Y0',\n",
       " 'mQzB76ss6tM',\n",
       " 'STcp-Kr9lKg',\n",
       " 'MVmWNgWnPyM',\n",
       " 'fdyMnobkhzk',\n",
       " 'q_mc7x0c7Co',\n",
       " '0Opa2T8KRdg',\n",
       " 'CzFZVUiPj-E',\n",
       " 'JBYO55f4me4',\n",
       " 'IHVwqu1uZBI',\n",
       " '4Lk9cgtGLLU',\n",
       " 'g-L0WfI_hkk',\n",
       " 'zj1mR_DwgV0',\n",
       " 'mtOPZQ1a5iU',\n",
       " 'd8RjjUa0Nrw',\n",
       " '119bPok7lLk',\n",
       " 'Whgp8QSCTdk',\n",
       " 'a8JFwgVzHLg',\n",
       " 'xVtYbuNthgY',\n",
       " 'OjyU0Xe6o1I',\n",
       " 'izy--M_q_VM',\n",
       " 'BSGY2EOH8DM',\n",
       " 'msgxLDCBpeI',\n",
       " 'M28jlYqvgT4',\n",
       " 'DYP987-nBVI',\n",
       " 'srOC7Y30VC8']"
      ]
     },
     "execution_count": 50,
     "metadata": {},
     "output_type": "execute_result"
    }
   ],
   "source": [
    "ch = channel(id='UCBi2mrWuNuyYy4gbM6fU18Q', key=key)\n",
    "ch.get_videos(category=25, date0='2021-10-31T00:00:00', date1='2021-11-03T23:59:59')"
   ]
  }
 ],
 "metadata": {
  "kernelspec": {
   "display_name": "Python 3",
   "language": "python",
   "name": "python3"
  },
  "language_info": {
   "codemirror_mode": {
    "name": "ipython",
    "version": 3
   },
   "file_extension": ".py",
   "mimetype": "text/x-python",
   "name": "python",
   "nbconvert_exporter": "python",
   "pygments_lexer": "ipython3",
   "version": "3.8.8"
  }
 },
 "nbformat": 4,
 "nbformat_minor": 5
}
